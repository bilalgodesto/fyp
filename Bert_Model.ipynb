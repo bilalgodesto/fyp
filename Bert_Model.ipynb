{
  "cells": [
    {
      "cell_type": "markdown",
      "metadata": {
        "id": "2JKy0UM-F7Ph"
      },
      "source": [
        "# BERT MODEL"
      ]
    },
    {
      "cell_type": "markdown",
      "source": [
        "# Reading Files"
      ],
      "metadata": {
        "id": "X6Gb8wuJzOJh"
      }
    },
    {
      "cell_type": "code",
      "execution_count": null,
      "metadata": {
        "colab": {
          "base_uri": "https://localhost:8080/"
        },
        "id": "RANMBVaRq_bZ",
        "outputId": "793d33a0-a95c-42fc-e355-93d2a0e33718"
      },
      "outputs": [
        {
          "output_type": "stream",
          "name": "stdout",
          "text": [
            "Mounted at /content/drive\n"
          ]
        }
      ],
      "source": [
        "import pandas as pd\n",
        "from PIL import Image\n",
        "from torchvision import transforms\n",
        "from google.colab import drive\n",
        "drive.mount('/content/drive')\n",
        "import os\n",
        "import time\n",
        "import torch"
      ]
    },
    {
      "cell_type": "code",
      "execution_count": null,
      "metadata": {
        "id": "ab0jziv2XLqy"
      },
      "outputs": [],
      "source": [
        "# Define the data directory and output directory\n",
        "input_directory = '/content/drive/MyDrive/deneme/'\n",
        "\n",
        "# Read the dataframe\n",
        "df = pd.read_csv(os.path.join(input_directory, 'combined_train.csv'))\n",
        "\n",
        "# Specify the column names we want to keep\n",
        "columns_to_keep = ['clean_comments', 'scenic']\n",
        "\n",
        "# Keep only the specified columns\n",
        "df = df[columns_to_keep]\n",
        "\n",
        "df_new = df[df['clean_comments'].notnull()]\n",
        "df_new2= df_new[df_new['scenic'].notnull()]"
      ]
    },
    {
      "cell_type": "code",
      "execution_count": null,
      "metadata": {
        "colab": {
          "base_uri": "https://localhost:8080/",
          "height": 204
        },
        "id": "AIp_h16h3Clt",
        "outputId": "5864197c-f90f-422a-fc16-2242ba3e7b6d"
      },
      "outputs": [
        {
          "output_type": "execute_result",
          "data": {
            "text/plain": [
              "                                      clean_comments  scenic\n",
              "0                         northern end long mountain       0\n",
              "1                                      looking north       1\n",
              "2  old railway line used farm road remnant previo...       0\n",
              "3                                 clump tree teampan       1\n",
              "4                                 looking north west       0"
            ],
            "text/html": [
              "\n",
              "\n",
              "  <div id=\"df-6767b7c0-0918-4bc0-9912-f1b9a54f0caf\">\n",
              "    <div class=\"colab-df-container\">\n",
              "      <div>\n",
              "<style scoped>\n",
              "    .dataframe tbody tr th:only-of-type {\n",
              "        vertical-align: middle;\n",
              "    }\n",
              "\n",
              "    .dataframe tbody tr th {\n",
              "        vertical-align: top;\n",
              "    }\n",
              "\n",
              "    .dataframe thead th {\n",
              "        text-align: right;\n",
              "    }\n",
              "</style>\n",
              "<table border=\"1\" class=\"dataframe\">\n",
              "  <thead>\n",
              "    <tr style=\"text-align: right;\">\n",
              "      <th></th>\n",
              "      <th>clean_comments</th>\n",
              "      <th>scenic</th>\n",
              "    </tr>\n",
              "  </thead>\n",
              "  <tbody>\n",
              "    <tr>\n",
              "      <th>0</th>\n",
              "      <td>northern end long mountain</td>\n",
              "      <td>0</td>\n",
              "    </tr>\n",
              "    <tr>\n",
              "      <th>1</th>\n",
              "      <td>looking north</td>\n",
              "      <td>1</td>\n",
              "    </tr>\n",
              "    <tr>\n",
              "      <th>2</th>\n",
              "      <td>old railway line used farm road remnant previo...</td>\n",
              "      <td>0</td>\n",
              "    </tr>\n",
              "    <tr>\n",
              "      <th>3</th>\n",
              "      <td>clump tree teampan</td>\n",
              "      <td>1</td>\n",
              "    </tr>\n",
              "    <tr>\n",
              "      <th>4</th>\n",
              "      <td>looking north west</td>\n",
              "      <td>0</td>\n",
              "    </tr>\n",
              "  </tbody>\n",
              "</table>\n",
              "</div>\n",
              "      <button class=\"colab-df-convert\" onclick=\"convertToInteractive('df-6767b7c0-0918-4bc0-9912-f1b9a54f0caf')\"\n",
              "              title=\"Convert this dataframe to an interactive table.\"\n",
              "              style=\"display:none;\">\n",
              "\n",
              "  <svg xmlns=\"http://www.w3.org/2000/svg\" height=\"24px\"viewBox=\"0 0 24 24\"\n",
              "       width=\"24px\">\n",
              "    <path d=\"M0 0h24v24H0V0z\" fill=\"none\"/>\n",
              "    <path d=\"M18.56 5.44l.94 2.06.94-2.06 2.06-.94-2.06-.94-.94-2.06-.94 2.06-2.06.94zm-11 1L8.5 8.5l.94-2.06 2.06-.94-2.06-.94L8.5 2.5l-.94 2.06-2.06.94zm10 10l.94 2.06.94-2.06 2.06-.94-2.06-.94-.94-2.06-.94 2.06-2.06.94z\"/><path d=\"M17.41 7.96l-1.37-1.37c-.4-.4-.92-.59-1.43-.59-.52 0-1.04.2-1.43.59L10.3 9.45l-7.72 7.72c-.78.78-.78 2.05 0 2.83L4 21.41c.39.39.9.59 1.41.59.51 0 1.02-.2 1.41-.59l7.78-7.78 2.81-2.81c.8-.78.8-2.07 0-2.86zM5.41 20L4 18.59l7.72-7.72 1.47 1.35L5.41 20z\"/>\n",
              "  </svg>\n",
              "      </button>\n",
              "\n",
              "\n",
              "\n",
              "    <div id=\"df-fd91a5eb-b052-4402-8c81-63df62ca36af\">\n",
              "      <button class=\"colab-df-quickchart\" onclick=\"quickchart('df-fd91a5eb-b052-4402-8c81-63df62ca36af')\"\n",
              "              title=\"Suggest charts.\"\n",
              "              style=\"display:none;\">\n",
              "\n",
              "<svg xmlns=\"http://www.w3.org/2000/svg\" height=\"24px\"viewBox=\"0 0 24 24\"\n",
              "     width=\"24px\">\n",
              "    <g>\n",
              "        <path d=\"M19 3H5c-1.1 0-2 .9-2 2v14c0 1.1.9 2 2 2h14c1.1 0 2-.9 2-2V5c0-1.1-.9-2-2-2zM9 17H7v-7h2v7zm4 0h-2V7h2v10zm4 0h-2v-4h2v4z\"/>\n",
              "    </g>\n",
              "</svg>\n",
              "      </button>\n",
              "    </div>\n",
              "\n",
              "<style>\n",
              "  .colab-df-quickchart {\n",
              "    background-color: #E8F0FE;\n",
              "    border: none;\n",
              "    border-radius: 50%;\n",
              "    cursor: pointer;\n",
              "    display: none;\n",
              "    fill: #1967D2;\n",
              "    height: 32px;\n",
              "    padding: 0 0 0 0;\n",
              "    width: 32px;\n",
              "  }\n",
              "\n",
              "  .colab-df-quickchart:hover {\n",
              "    background-color: #E2EBFA;\n",
              "    box-shadow: 0px 1px 2px rgba(60, 64, 67, 0.3), 0px 1px 3px 1px rgba(60, 64, 67, 0.15);\n",
              "    fill: #174EA6;\n",
              "  }\n",
              "\n",
              "  [theme=dark] .colab-df-quickchart {\n",
              "    background-color: #3B4455;\n",
              "    fill: #D2E3FC;\n",
              "  }\n",
              "\n",
              "  [theme=dark] .colab-df-quickchart:hover {\n",
              "    background-color: #434B5C;\n",
              "    box-shadow: 0px 1px 3px 1px rgba(0, 0, 0, 0.15);\n",
              "    filter: drop-shadow(0px 1px 2px rgba(0, 0, 0, 0.3));\n",
              "    fill: #FFFFFF;\n",
              "  }\n",
              "</style>\n",
              "\n",
              "    <script>\n",
              "      async function quickchart(key) {\n",
              "        const containerElement = document.querySelector('#' + key);\n",
              "        const charts = await google.colab.kernel.invokeFunction(\n",
              "            'suggestCharts', [key], {});\n",
              "      }\n",
              "    </script>\n",
              "\n",
              "      <script>\n",
              "\n",
              "function displayQuickchartButton(domScope) {\n",
              "  let quickchartButtonEl =\n",
              "    domScope.querySelector('#df-fd91a5eb-b052-4402-8c81-63df62ca36af button.colab-df-quickchart');\n",
              "  quickchartButtonEl.style.display =\n",
              "    google.colab.kernel.accessAllowed ? 'block' : 'none';\n",
              "}\n",
              "\n",
              "        displayQuickchartButton(document);\n",
              "      </script>\n",
              "      <style>\n",
              "    .colab-df-container {\n",
              "      display:flex;\n",
              "      flex-wrap:wrap;\n",
              "      gap: 12px;\n",
              "    }\n",
              "\n",
              "    .colab-df-convert {\n",
              "      background-color: #E8F0FE;\n",
              "      border: none;\n",
              "      border-radius: 50%;\n",
              "      cursor: pointer;\n",
              "      display: none;\n",
              "      fill: #1967D2;\n",
              "      height: 32px;\n",
              "      padding: 0 0 0 0;\n",
              "      width: 32px;\n",
              "    }\n",
              "\n",
              "    .colab-df-convert:hover {\n",
              "      background-color: #E2EBFA;\n",
              "      box-shadow: 0px 1px 2px rgba(60, 64, 67, 0.3), 0px 1px 3px 1px rgba(60, 64, 67, 0.15);\n",
              "      fill: #174EA6;\n",
              "    }\n",
              "\n",
              "    [theme=dark] .colab-df-convert {\n",
              "      background-color: #3B4455;\n",
              "      fill: #D2E3FC;\n",
              "    }\n",
              "\n",
              "    [theme=dark] .colab-df-convert:hover {\n",
              "      background-color: #434B5C;\n",
              "      box-shadow: 0px 1px 3px 1px rgba(0, 0, 0, 0.15);\n",
              "      filter: drop-shadow(0px 1px 2px rgba(0, 0, 0, 0.3));\n",
              "      fill: #FFFFFF;\n",
              "    }\n",
              "  </style>\n",
              "\n",
              "      <script>\n",
              "        const buttonEl =\n",
              "          document.querySelector('#df-6767b7c0-0918-4bc0-9912-f1b9a54f0caf button.colab-df-convert');\n",
              "        buttonEl.style.display =\n",
              "          google.colab.kernel.accessAllowed ? 'block' : 'none';\n",
              "\n",
              "        async function convertToInteractive(key) {\n",
              "          const element = document.querySelector('#df-6767b7c0-0918-4bc0-9912-f1b9a54f0caf');\n",
              "          const dataTable =\n",
              "            await google.colab.kernel.invokeFunction('convertToInteractive',\n",
              "                                                     [key], {});\n",
              "          if (!dataTable) return;\n",
              "\n",
              "          const docLinkHtml = 'Like what you see? Visit the ' +\n",
              "            '<a target=\"_blank\" href=https://colab.research.google.com/notebooks/data_table.ipynb>data table notebook</a>'\n",
              "            + ' to learn more about interactive tables.';\n",
              "          element.innerHTML = '';\n",
              "          dataTable['output_type'] = 'display_data';\n",
              "          await google.colab.output.renderOutput(dataTable, element);\n",
              "          const docLink = document.createElement('div');\n",
              "          docLink.innerHTML = docLinkHtml;\n",
              "          element.appendChild(docLink);\n",
              "        }\n",
              "      </script>\n",
              "    </div>\n",
              "  </div>\n"
            ]
          },
          "metadata": {},
          "execution_count": 3
        }
      ],
      "source": [
        "df.head()"
      ]
    },
    {
      "cell_type": "code",
      "execution_count": null,
      "metadata": {
        "colab": {
          "base_uri": "https://localhost:8080/"
        },
        "id": "mgwPmnfdv-5B",
        "outputId": "4c76da23-5c58-4953-ab5a-4b3ab2ceb53a"
      },
      "outputs": [
        {
          "output_type": "stream",
          "name": "stdout",
          "text": [
            "8000 8000 8000\n"
          ]
        }
      ],
      "source": [
        "print(len(df),len(df_new),len(df_new2))\n",
        "df=df_new2"
      ]
    },
    {
      "cell_type": "code",
      "execution_count": null,
      "metadata": {
        "colab": {
          "base_uri": "https://localhost:8080/"
        },
        "id": "8btIp1I8jYm3",
        "outputId": "0141c9f2-0d48-426a-dc8b-7cffd53819ce"
      },
      "outputs": [
        {
          "output_type": "stream",
          "name": "stdout",
          "text": [
            "        id                                     clean_comments  scenic\n",
            "0        0                         northern end long mountain       0\n",
            "1        1                                      looking north       1\n",
            "2        2  old railway line used farm road remnant previo...       0\n",
            "3        3                                 clump tree teampan       1\n",
            "4        4                                 looking north west       0\n",
            "...    ...                                                ...     ...\n",
            "7995  7995  golfer enjoying round golf move fairway next shot       0\n",
            "7996  7996  national grid substation distance next square ...       0\n",
            "7997  7997  like [ [ 7143 ] ] footpath 562151 go nowhere a...       0\n",
            "7998  7998  bridleway start long road cross fairly level g...       1\n",
            "7999  7999  track right go farm think house picture nothin...       0\n",
            "\n",
            "[8000 rows x 3 columns]\n"
          ]
        }
      ],
      "source": [
        "df.reset_index(inplace=True)\n",
        "\n",
        "# Rename the 'index' column to 'id'\n",
        "df.rename(columns={'index': 'id'}, inplace=True)\n",
        "\n",
        "# Print the updated dataframe\n",
        "print(df)"
      ]
    },
    {
      "cell_type": "markdown",
      "metadata": {
        "id": "UWPQinRnpOOx"
      },
      "source": [
        "# Test-Train Split"
      ]
    },
    {
      "cell_type": "code",
      "source": [
        "# Define the data directory and output directory\n",
        "input_directory = '/content/drive/MyDrive/deneme/'\n",
        "\n",
        "# Read the dataframe\n",
        "df_test = pd.read_csv(os.path.join(input_directory, 'combined_train.csv'))\n",
        "df_validation = pd.read_csv(os.path.join(input_directory, 'combined_val.csv'))\n",
        "df_train=df\n",
        "\n",
        "train_text= df_train['clean_comments'].values\n",
        "test_text= df_test['clean_comments'].values\n",
        "val_text=df_validation['clean_comments'].values\n",
        "\n",
        "train_labels= df_train['scenic'].values\n",
        "test_labels= df_test['scenic'].values\n",
        "val_label= df_validation['scenic'].values\n"
      ],
      "metadata": {
        "id": "MXqfUz5I4uyr"
      },
      "execution_count": null,
      "outputs": []
    },
    {
      "cell_type": "markdown",
      "metadata": {
        "id": "ObwldAgYoueY"
      },
      "source": [
        "# Bert- Base -Uncased Model"
      ]
    },
    {
      "cell_type": "markdown",
      "metadata": {
        "id": "YYo2eAEwKljC"
      },
      "source": [
        "We’ll be using BertForSequenceClassification. This is the normal BERT model with an added single linear layer on top for classification that we will use as a sentence classifier"
      ]
    },
    {
      "cell_type": "code",
      "execution_count": null,
      "metadata": {
        "id": "Tvuwnj0LsHEa"
      },
      "outputs": [],
      "source": [
        "!pip install transformers"
      ]
    },
    {
      "cell_type": "code",
      "execution_count": null,
      "metadata": {
        "id": "p6kVvG7no2xQ"
      },
      "outputs": [],
      "source": [
        "from transformers import BertTokenizer, BertModel\n",
        "import matplotlib.pyplot as plt\n",
        "\n",
        "tokenizer = BertTokenizer.from_pretrained('bert-base-uncased')\n",
        "#model = BertModel.from_pretrained(\"bert-base-uncased\")\n",
        "\n",
        "from transformers import BertForSequenceClassification\n",
        "\n",
        "model = BertForSequenceClassification.from_pretrained('bert-base-uncased')"
      ]
    },
    {
      "cell_type": "markdown",
      "source": [
        "Tokenizing the first text as an example."
      ],
      "metadata": {
        "id": "aNtFJwi_1vTu"
      }
    },
    {
      "cell_type": "code",
      "execution_count": null,
      "metadata": {
        "colab": {
          "base_uri": "https://localhost:8080/"
        },
        "id": "5QwvHZqwpgUl",
        "outputId": "4ed5ef59-b6e7-460d-8c0f-af7a1597f15f"
      },
      "outputs": [
        {
          "output_type": "stream",
          "name": "stdout",
          "text": [
            " Original:  northern end long mountain\n",
            "Tokenized:  ['northern', 'end', 'long', 'mountain']\n",
            "Token IDs:  [2642, 2203, 2146, 3137]\n"
          ]
        }
      ],
      "source": [
        "# Print the original sentence.\n",
        "print(' Original: ', train_text[0])\n",
        "\n",
        "# Print the sentence split into tokens.\n",
        "print('Tokenized: ', tokenizer.tokenize(train_text[0]))\n",
        "\n",
        "# Print the sentence mapped to token ids.\n",
        "print('Token IDs: ', tokenizer.convert_tokens_to_ids(tokenizer.tokenize(train_text[0])))"
      ]
    },
    {
      "cell_type": "code",
      "execution_count": null,
      "metadata": {
        "colab": {
          "base_uri": "https://localhost:8080/"
        },
        "id": "g8GS5sMerACN",
        "outputId": "27dff0b4-a18f-48f1-85e3-4e500b135b10"
      },
      "outputs": [
        {
          "output_type": "stream",
          "name": "stdout",
          "text": [
            "Maximum word count: 201\n"
          ]
        }
      ],
      "source": [
        "max_word_count = max([len(text.split()) for text in train_text])\n",
        "print(\"Maximum word count:\", max_word_count)"
      ]
    },
    {
      "cell_type": "markdown",
      "metadata": {
        "id": "f4dcVgpU1bL5"
      },
      "source": [
        "#Tokenising"
      ]
    },
    {
      "cell_type": "markdown",
      "metadata": {
        "id": "Jxik_XeR1AFX"
      },
      "source": [
        "- To avoid subword parameter we split the text first.  \n",
        "\n",
        "- In this example, the tokenizer.encode method is modified to include padding using the padding='max_length' argument and specifying a maximum length of 64 tokens (max_length=64). The torch.tensor conversion ensures that all sequences have the same length by padding them with zeros.  \n",
        "\n",
        "- Truncation used to shortening a text to the length. This is necessary because models  require input size of 100. If a text is too long, it is going to be truncated. After, by padding all other texts to max_length we making sure that all texts are in the same length."
      ]
    },
    {
      "cell_type": "code",
      "execution_count": null,
      "metadata": {
        "id": "9rbEza-B0yHl"
      },
      "outputs": [],
      "source": [
        "# Word-level tokenization using whitespace tokenizer\n",
        "train_tokens_word_level = [text.split()[:364] for text in train_text]\n",
        "\n",
        "# BERT tokenization on word-level tokens\n",
        "train_tokens_bert = [tokenizer.encode(text, truncation=True, padding='max_length', max_length=100) for text in train_tokens_word_level]\n",
        "\n",
        "train_tokens_before_padding = [tokenizer.encode(text, truncation=True, padding=True) for text in train_tokens_word_level]"
      ]
    },
    {
      "cell_type": "code",
      "execution_count": null,
      "metadata": {
        "colab": {
          "base_uri": "https://localhost:8080/"
        },
        "id": "u9duPNKbvLMQ",
        "outputId": "df88a419-d8d3-4418-d53d-07fdc5d5537b"
      },
      "outputs": [
        {
          "output_type": "stream",
          "name": "stdout",
          "text": [
            "Sentence:  pair heavy horse dwarf shetland pony croft west town baras\n",
            "Tokens:  [101, 3940, 3082, 3586, 11229, 25552, 15606, 28983, 2225, 2237, 100, 102, 0, 0, 0, 0, 0, 0, 0, 0, 0, 0, 0, 0, 0, 0, 0, 0, 0, 0, 0, 0, 0, 0, 0, 0, 0, 0, 0, 0, 0, 0, 0, 0, 0, 0, 0, 0, 0, 0, 0, 0, 0, 0, 0, 0, 0, 0, 0, 0, 0, 0, 0, 0, 0, 0, 0, 0, 0, 0, 0, 0, 0, 0, 0, 0, 0, 0, 0, 0, 0, 0, 0, 0, 0, 0, 0, 0, 0, 0, 0, 0, 0, 0, 0, 0, 0, 0, 0, 0]\n"
          ]
        }
      ],
      "source": [
        "# Print the sentence split into tokens.\n",
        "print('Sentence: ', train_text[1000])\n",
        "\n",
        "# Print the sentence mapped to token ids.\n",
        "print('Tokens: ', train_tokens_bert[1000])"
      ]
    },
    {
      "cell_type": "markdown",
      "source": [
        "# Choosing \"max_length\""
      ],
      "metadata": {
        "id": "_UIJgXnB3b0r"
      }
    },
    {
      "cell_type": "markdown",
      "source": [
        "Since significant amount of text less then 100 words, we chosed 100 as padding length."
      ],
      "metadata": {
        "id": "Om3ZEZeR3tc-"
      }
    },
    {
      "cell_type": "code",
      "execution_count": null,
      "metadata": {
        "colab": {
          "base_uri": "https://localhost:8080/",
          "height": 927
        },
        "id": "D0g4sAhPo2np",
        "outputId": "9feefec7-a591-4ddd-f845-1d95d41a956d"
      },
      "outputs": [
        {
          "output_type": "display_data",
          "data": {
            "text/plain": [
              "<Figure size 640x480 with 1 Axes>"
            ],
            "image/png": "[encoded data removed]"
          },
          "metadata": {}
        },
        {
          "output_type": "display_data",
          "data": {
            "text/plain": [
              "<Figure size 640x480 with 1 Axes>"
            ],
            "image/png": "[encoded data removed]"
          },
          "metadata": {}
        }
      ],
      "source": [
        "# Calculate the lengths of tokenized sequences\n",
        "token_lengths_after_padding = [len(tokens) for tokens in train_tokens_bert]\n",
        "token_lengths_before_padding = [len(tokens) for tokens in train_tokens_before_padding]\n",
        "\n",
        "plt.hist(token_lengths_before_padding, bins=50)\n",
        "plt.xlabel('Token Count')\n",
        "plt.ylabel('Frequency')\n",
        "plt.title('Distribution of Token Lengths Before Padding')\n",
        "plt.show()\n",
        "\n",
        "# Plot the distribution of token lengths after padding\n",
        "plt.hist(token_lengths_after_padding, bins=50)\n",
        "plt.xlabel('Token Count')\n",
        "plt.ylabel('Frequency')\n",
        "plt.title('After Padding')\n",
        "plt.show()"
      ]
    },
    {
      "cell_type": "markdown",
      "metadata": {
        "id": "W_MbKlzI3yCu"
      },
      "source": [
        "# PREPEARING THE TOKENS/ TEST-TRAIN INPUTS"
      ]
    },
    {
      "cell_type": "code",
      "execution_count": null,
      "metadata": {
        "id": "mo8cGLN2sREN"
      },
      "outputs": [],
      "source": [
        "import torch.optim as optim\n",
        "import torch.nn.functional as F\n",
        "\n",
        "train_inputs = {\n",
        "    'input_ids': torch.tensor([tokens for tokens in train_tokens_bert]),\n",
        "    #'attention_mask': torch.tensor([[1] * len(tokens) for tokens in train_tokens]),\n",
        "    'labels': torch.tensor(train_labels)\n",
        "}"
      ]
    },
    {
      "cell_type": "code",
      "execution_count": null,
      "metadata": {
        "id": "VMLH4RBVft1i"
      },
      "outputs": [],
      "source": [
        "# Word-level tokenization using whitespace tokenizer\n",
        "test_tokens_word_level = [text.split()[:364] for text in test_text]\n",
        "\n",
        "# BERT tokenization on word-level tokens\n",
        "test_tokens_bert = [tokenizer.encode(text, truncation=True, padding='max_length', max_length=100) for text in test_tokens_word_level]\n",
        "\n",
        "test_inputs = {\n",
        "    'input_ids': torch.tensor([tokens for tokens in test_tokens_bert]),\n",
        "    #'attention_mask': torch.tensor([[1] * len(tokens) for tokens in test_tokens]),\n",
        "    'labels': torch.tensor(test_labels)\n",
        "}"
      ]
    },
    {
      "cell_type": "markdown",
      "source": [
        "# Creating Dataloader"
      ],
      "metadata": {
        "id": "y0Sijr-k5epL"
      }
    },
    {
      "cell_type": "code",
      "execution_count": null,
      "metadata": {
        "id": "GEpU7M-QtF0x"
      },
      "outputs": [],
      "source": [
        "from torch.utils.data import TensorDataset, DataLoader, RandomSampler, SequentialSampler\n",
        "\n",
        "#Creating the DataLoader which will help us to load data into the GPU/CPU\n",
        "batch_size = 32\n",
        "\n",
        "# Create the DataLoader for our training set.\n",
        "train_data = TensorDataset(train_inputs['input_ids'], train_inputs[\"labels\"])\n",
        "train_sampler = RandomSampler(train_data)\n",
        "train_dataloader = DataLoader(train_data, sampler=train_sampler, batch_size=batch_size)\n",
        "\n",
        "# Create the DataLoader for our validation set.\n",
        "validation_data = TensorDataset(test_inputs['input_ids'], test_inputs[\"labels\"])\n",
        "validation_sampler = SequentialSampler(validation_data)\n",
        "validation_dataloader = DataLoader(validation_data, sampler=validation_sampler, batch_size=batch_size)"
      ]
    },
    {
      "cell_type": "markdown",
      "metadata": {
        "id": "lXKk-iJSu69R"
      },
      "source": [
        "#  MODEL PARAMETERS"
      ]
    },
    {
      "cell_type": "markdown",
      "metadata": {
        "id": "fdTAy4VLKrT4"
      },
      "source": [
        "We’ll be using BertForSequenceClassification. This is the normal BERT model with an added single linear layer on top for classification that we will use as a sentence classifier"
      ]
    },
    {
      "cell_type": "code",
      "source": [
        "! pip install transformers"
      ],
      "metadata": {
        "id": "pLHCHJejRgLg"
      },
      "execution_count": null,
      "outputs": []
    },
    {
      "cell_type": "code",
      "execution_count": null,
      "metadata": {
        "colab": {
          "base_uri": "https://localhost:8080/"
        },
        "id": "vYFzfv4CtFvw",
        "outputId": "15ccb6a6-dd35-4efa-f827-48df5defe643"
      },
      "outputs": [
        {
          "output_type": "stream",
          "name": "stderr",
          "text": [
            "Some weights of BertForSequenceClassification were not initialized from the model checkpoint at bert-base-uncased and are newly initialized: ['classifier.bias', 'classifier.weight']\n",
            "You should probably TRAIN this model on a down-stream task to be able to use it for predictions and inference.\n"
          ]
        }
      ],
      "source": [
        "#Loading the pre-trained BERT model from huggingface library\n",
        "\n",
        "from transformers import BertForSequenceClassification, AdamW, BertConfig\n",
        "\n",
        "# Load BertForSequenceClassification, the pretrained BERT model with a single\n",
        "# linear classification layer on top.\n",
        "model = BertForSequenceClassification.from_pretrained(\n",
        "    \"bert-base-uncased\",\n",
        "    num_labels = 2,\n",
        "    output_attentions = True,\n",
        "    # each input token in relation to other tokens during the model's processing\n",
        "    output_hidden_states = False, )\n",
        "\n",
        "# Teeling the model to run on GPU\n",
        "#model.cuda()\n",
        "device = torch.device(\"cuda\" if torch.cuda.is_available() else \"cpu\")\n",
        "model = model.to(device)"
      ]
    },
    {
      "cell_type": "code",
      "execution_count": null,
      "metadata": {
        "id": "A3yo8KZkK8r5"
      },
      "outputs": [],
      "source": [
        "model"
      ]
    },
    {
      "cell_type": "code",
      "execution_count": null,
      "metadata": {
        "colab": {
          "base_uri": "https://localhost:8080/"
        },
        "id": "YH-ee91atFrC",
        "outputId": "54351b0d-5046-457a-d56d-c9798500e3f6"
      },
      "outputs": [
        {
          "output_type": "stream",
          "name": "stderr",
          "text": [
            "/usr/local/lib/python3.10/dist-packages/transformers/optimization.py:411: FutureWarning: This implementation of AdamW is deprecated and will be removed in a future version. Use the PyTorch implementation torch.optim.AdamW instead, or set `no_deprecation_warning=True` to disable this warning\n",
            "  warnings.warn(\n"
          ]
        }
      ],
      "source": [
        "# AdamW is an optimizer which is a Adam Optimzier with weight-decay-fix\n",
        "optimizer = AdamW(model.parameters(),\n",
        "                  lr = 2e-5,\n",
        "                  eps = 1e-8\n",
        "                )"
      ]
    },
    {
      "cell_type": "markdown",
      "metadata": {
        "id": "ERzPlu_hvmpe"
      },
      "source": [
        "# LEARNING RATE SCHEDULER"
      ]
    },
    {
      "cell_type": "code",
      "execution_count": null,
      "metadata": {
        "colab": {
          "base_uri": "https://localhost:8080/"
        },
        "id": "6EJi526hvWw9",
        "outputId": "98d1ccdb-07d7-4af3-8b2d-d6ef99e7a649"
      },
      "outputs": [
        {
          "output_type": "execute_result",
          "data": {
            "text/plain": [
              "<torch.optim.lr_scheduler.LambdaLR at 0x795e20f33550>"
            ]
          },
          "metadata": {},
          "execution_count": 19
        }
      ],
      "source": [
        "from transformers import get_linear_schedule_with_warmup\n",
        "\n",
        "# Number of training epochs (authors recommend between 2 and 4)\n",
        "epochs = 5\n",
        "\n",
        "# Total number of training steps is number of batches * number of epochs.\n",
        "total_steps = len(train_dataloader) * epochs\n",
        "\n",
        "# Create the learning rate scheduler.\n",
        "scheduler = get_linear_schedule_with_warmup(optimizer,\n",
        "                                            num_warmup_steps = 0, # Default value in run_glue.py\n",
        "                                            num_training_steps = total_steps)"
      ]
    },
    {
      "cell_type": "markdown",
      "metadata": {
        "id": "cA6hjDF8wev4"
      },
      "source": [
        "# ACCURACY FUNTION AND TIMING"
      ]
    },
    {
      "cell_type": "code",
      "execution_count": null,
      "metadata": {
        "id": "SvV3A2myvtl_"
      },
      "outputs": [],
      "source": [
        "import numpy as np\n",
        "import time\n",
        "import datetime\n",
        "\n",
        "# Function to calculate the accuracy of our predictions vs labels\n",
        "def flat_accuracy(preds, labels):\n",
        "    pred_flat = np.argmax(preds, axis=1).flatten()\n",
        "    labels_flat = labels.flatten()\n",
        "    return np.sum(pred_flat == labels_flat) / len(labels_flat)\n",
        "\n",
        "#Creating the helper function to have a watch on elapsed time\n",
        "def format_time(elapsed):\n",
        "    # Round to the nearest second.\n",
        "    elapsed_rounded = int(round((elapsed)))\n",
        "\n",
        "    # Format as hh:mm:ss\n",
        "    return str(datetime.timedelta(seconds=elapsed_rounded))"
      ]
    },
    {
      "cell_type": "markdown",
      "source": [
        "# MODEL TRAINING"
      ],
      "metadata": {
        "id": "WpRYAFRY7V4G"
      }
    },
    {
      "cell_type": "code",
      "execution_count": null,
      "metadata": {
        "id": "YvCMbZk_vthF"
      },
      "outputs": [],
      "source": [
        "import random\n",
        "\n",
        "# Set the seed value all over the place to make this reproducible.\n",
        "seeds = 42\n",
        "\n",
        "random.seed(seeds)\n",
        "np.random.seed(seeds)\n",
        "torch.manual_seed(seeds)\n",
        "torch.cuda.manual_seed_all(seeds)\n",
        "\n",
        "# Store the average loss after each epoch so we can plot them.\n",
        "loss_values = []\n",
        "\n",
        "# For each epoch...\n",
        "for epoch_i in range(0, epochs):\n",
        "    print(\"\")\n",
        "    print('======== Epoch {:} / {:} ========'.format(epoch_i + 1, epochs))\n",
        "    print('Training...')\n",
        "\n",
        "    # Measure how long the training epoch takes.\n",
        "    t0 = time.time()\n",
        "    # Reset the total loss for this epoch.\n",
        "    total_loss = 0\n",
        "    model.train()\n",
        "\n",
        "    for step, batch in enumerate(train_dataloader):\n",
        "        # Progress update every 40 batches.\n",
        "        if step % 40 == 0 and not step == 0:\n",
        "            # Calculate elapsed time in minutes.\n",
        "            elapsed = format_time(time.time() - t0)\n",
        "            # Report progress.\n",
        "            print('  Batch {:>5,}  of  {:>5,}.    Elapsed: {:}.'.format(step, len(train_dataloader), elapsed))\n",
        "\n",
        "        #   [0]: input ids\n",
        "        #   [1]: attention masks\n",
        "        #   [2]: labels\n",
        "        b_input_ids = batch[0].to(device)\n",
        "        #b_input_mask = batch[1].to(device)\n",
        "        b_labels = batch[1].to(device)\n",
        "\n",
        "        # Always clear any previously calculated gradients before performing aforward pass\n",
        "        model.zero_grad()\n",
        "\n",
        "        outputs = model(b_input_ids,\n",
        "                    token_type_ids=None,\n",
        "                    #attention_mask=b_input_mask,\n",
        "                    labels=b_labels)\n",
        "\n",
        "        # loss value out of the tuple.\n",
        "        loss = outputs[0]\n",
        "        total_loss += loss.item()\n",
        "        # Perform a backward pass to calculate the gradients.\n",
        "        loss.backward()\n",
        "\n",
        "        torch.nn.utils.clip_grad_norm_(model.parameters(), 1.0)\n",
        "        optimizer.step()\n",
        "\n",
        "        # Update the learning rate.\n",
        "        scheduler.step()\n",
        "\n",
        "    # Calculate the average loss over the training data.\n",
        "    avg_train_loss = total_loss / len(train_dataloader)\n",
        "    # Store the loss value for plotting the learning curve.\n",
        "    loss_values.append(avg_train_loss)\n",
        "\n",
        "    print(\"\")\n",
        "    print(\"  Average training loss: {0:.2f}\".format(avg_train_loss))\n",
        "    print(\"  Training epoch took: {:}\".format(format_time(time.time() - t0)))\n",
        "    print(\"\")\n",
        "    print(\"Running Validation...\")\n",
        "\n",
        "    t0 = time.time()\n",
        "    model.eval()\n",
        "\n",
        "    # Tracking variables\n",
        "    eval_loss, eval_accuracy = 0, 0\n",
        "    nb_eval_steps, nb_eval_examples = 0, 0\n",
        "\n",
        "# in this part we use validation_dataset for validation. separate datset !!!!!!!!!\n",
        "\n",
        "    # Evaluate data for one epoch\n",
        "    for batch in validation_dataloader:\n",
        "      b_input_ids = batch[0].to(device)\n",
        "      #b_input_mask = batch[1].to(device)\n",
        "      b_labels = batch[1].to(device)\n",
        "      # speeding up validation\n",
        "      with torch.no_grad():\n",
        "          outputs = model(b_input_ids,\n",
        "                            token_type_ids=None,\n",
        "                            #attention_mask=b_input_mask\n",
        "                          )\n",
        "      logits = outputs[0]\n",
        "      # Move logits and labels to CPU\n",
        "      logits = logits.detach().cpu().numpy()\n",
        "      label_ids = b_labels.to('cpu').numpy()\n",
        "      tmp_eval_accuracy = flat_accuracy(logits, label_ids)\n",
        "      eval_accuracy += tmp_eval_accuracy\n",
        "      nb_eval_steps += 1\n",
        "\n",
        "      print(\"  Accuracy is: {0:.2f}\".format(eval_accuracy/nb_eval_steps))\n",
        "      print(\"  Validation took: {:}\".format(format_time(time.time() - t0)))\n",
        "\n",
        "print(\"\")\n",
        "print(\"Training is done!\")"
      ]
    },
    {
      "cell_type": "code",
      "execution_count": null,
      "metadata": {
        "colab": {
          "base_uri": "https://localhost:8080/"
        },
        "id": "vNOvII_Fvtb6",
        "outputId": "f019f7bd-baea-4333-de25-6cde15f45f04"
      },
      "outputs": [
        {
          "output_type": "stream",
          "name": "stdout",
          "text": [
            "[0.5426663517355919, 0.41393415212631224, 0.34579006224870684, 0.2817151550650597, 0.23124317288398744]\n"
          ]
        }
      ],
      "source": [
        "print(loss_values)"
      ]
    },
    {
      "cell_type": "markdown",
      "metadata": {
        "id": "DXighRoT7R1N"
      },
      "source": [
        "# Save The Model"
      ]
    },
    {
      "cell_type": "code",
      "execution_count": null,
      "metadata": {
        "id": "Od4KyLgB7D56"
      },
      "outputs": [],
      "source": [
        "# Define the path for saving the model\n",
        "model_path = '/content/drive/MyDrive/deneme/bert_8k'\n",
        "\n",
        "# Save the model\n",
        "model.save_pretrained(model_path)"
      ]
    },
    {
      "cell_type": "markdown",
      "metadata": {
        "id": "k3v93p9qPD8G"
      },
      "source": [
        "# Prediciton\n",
        "\n",
        "For prediction we will use val_text dataset which we didn't touch since the beginning."
      ]
    },
    {
      "cell_type": "code",
      "execution_count": null,
      "metadata": {
        "id": "go_u0wt9vSzh"
      },
      "outputs": [],
      "source": [
        "from sklearn.metrics import accuracy_score, confusion_matrix"
      ]
    },
    {
      "cell_type": "code",
      "execution_count": null,
      "metadata": {
        "colab": {
          "base_uri": "https://localhost:8080/"
        },
        "id": "5uwMGSBksj1v",
        "outputId": "2238316b-ae34-4a29-d1be-425ee1a2018c"
      },
      "outputs": [
        {
          "output_type": "stream",
          "name": "stdout",
          "text": [
            "[0 1 0 ... 0 1 0]\n"
          ]
        }
      ],
      "source": [
        "#print(train_inputs['labels'])\n",
        "print(test_labels)"
      ]
    },
    {
      "cell_type": "code",
      "source": [
        "device = torch.device(\"cuda\" if torch.cuda.is_available() else \"cpu\")\n",
        "model = model.to(device)"
      ],
      "metadata": {
        "id": "W1uvhso7I98o"
      },
      "execution_count": null,
      "outputs": []
    },
    {
      "cell_type": "code",
      "execution_count": null,
      "metadata": {
        "id": "9cP4O7HMPGdM"
      },
      "outputs": [],
      "source": [
        "# Word-level tokenization using whitespace tokenizer\n",
        "test_tokens_word_level = [text.split()[:364] for text in val_text]\n",
        "\n",
        "# BERT tokenization on word-level tokens\n",
        "test_tokens_bert = [tokenizer.encode(text, truncation=True, padding='max_length', max_length=100) for text in test_tokens_word_level]\n",
        "\n",
        "test_inputs = {\n",
        "    'input_ids': torch.tensor([tokens for tokens in test_tokens_bert]).to(device),\n",
        "    #'attention_mask': torch.tensor([[1] * len(tokens) for tokens in test_tokens]),\n",
        "    'labels': torch.tensor(val_label).to(device)\n",
        "    #'labels': torch.tensor(test_labels.values)  # Convert test_labels to a numpy array using the 'values' attribute\n",
        "}"
      ]
    },
    {
      "cell_type": "code",
      "execution_count": null,
      "metadata": {
        "colab": {
          "base_uri": "https://localhost:8080/"
        },
        "id": "kjtArIgQ9H44",
        "outputId": "6a2bad94-b4ab-44d4-e4a0-ca3698ce9a7e"
      },
      "outputs": [
        {
          "output_type": "execute_result",
          "data": {
            "text/plain": [
              "1000"
            ]
          },
          "metadata": {},
          "execution_count": 30
        }
      ],
      "source": [
        "len(test_inputs['input_ids'])"
      ]
    },
    {
      "cell_type": "code",
      "source": [
        "import time\n",
        "\n",
        "batch_size = 16\n",
        "outputs = []\n",
        "\n",
        "# Set the model to evaluation mode\n",
        "model.eval()\n",
        "\n",
        "# Move the model to the same device as the input tensors (if not already on the same device)\n",
        "model.to(device)\n",
        "# Get the number of batches\n",
        "num_batches = len(test_inputs['input_ids']) // batch_size\n",
        "# Start the timer\n",
        "start_time = time.time()\n",
        "\n",
        "for i in range(0, len(test_inputs['input_ids']), batch_size):\n",
        "    batch_inputs = {\n",
        "        'input_ids': test_inputs['input_ids'][i:i+batch_size].to(device)\n",
        "                   }\n",
        "    with torch.no_grad():\n",
        "        batch_output = model(**batch_inputs)\n",
        "        outputs.extend(batch_output.logits.cpu().numpy())\n",
        "\n",
        "    # Calculate elapsed time for this batch\n",
        "    elapsed_time = time.time() - start_time\n",
        "    # Calculate estimated total time\n",
        "    estimated_total_time = elapsed_time / (i + 1) * num_batches\n",
        "    # Print the estimated time for completion after each batch\n",
        "    print(f\"Batch {i//batch_size + 1}/{num_batches}, Estimated Total Time: {estimated_total_time:.2f} seconds\")\n",
        "\n",
        "# End of inference\n",
        "print(\"Inference completed!\")"
      ],
      "metadata": {
        "id": "MItNNvhZLxRb"
      },
      "execution_count": null,
      "outputs": []
    },
    {
      "cell_type": "markdown",
      "source": [
        "#CONFUSION MATRIX AND ACCURACY SCORES"
      ],
      "metadata": {
        "id": "2embshrq5ytR"
      }
    },
    {
      "cell_type": "code",
      "source": [
        "import numpy as np"
      ],
      "metadata": {
        "id": "MeKxq8UL4i6f"
      },
      "execution_count": null,
      "outputs": []
    },
    {
      "cell_type": "code",
      "source": [
        "predicted_labels = np.argmax(outputs, axis=1)  # Convert logits to class labels\n",
        "true_labels = val_label  # test_labels is a numpy array or list of true labels\n",
        "\n",
        "# Calculate the confusion matrix\n",
        "cm = confusion_matrix(true_labels, predicted_labels)\n",
        "\n",
        "# Calculate accuracy\n",
        "accuracy = accuracy_score(true_labels, predicted_labels)"
      ],
      "metadata": {
        "id": "VFC0WbFC4XDJ"
      },
      "execution_count": null,
      "outputs": []
    },
    {
      "cell_type": "code",
      "source": [
        "def plot_confusion_matrix(cm, classes, title='Confusion Matrix', cmap=plt.cm.Blues):\n",
        "    plt.imshow(cm, interpolation='nearest', cmap=cmap)\n",
        "    plt.title(title)\n",
        "    plt.colorbar()\n",
        "    tick_marks = np.arange(len(classes))\n",
        "    plt.xticks(tick_marks, classes, rotation=45)\n",
        "    plt.yticks(tick_marks, classes)\n",
        "\n",
        "    # Add text annotations for TP, TN, FP, FN counts\n",
        "    thresh = cm.max() / 2.\n",
        "    for i in range(len(classes)):\n",
        "        for j in range(len(classes)):\n",
        "            plt.text(j, i, f'{cm[i, j]}\\n', ha=\"center\", va=\"center\", color=\"white\" if cm[i, j] > thresh else \"black\")\n",
        "\n",
        "    plt.xlabel('Predicted Label')\n",
        "    plt.ylabel('True Label')\n",
        "    plt.tight_layout()\n",
        "\n",
        "# we have a list of class names 'class_names'\n",
        "class_names = ['Class 0', 'Class 1']  # Replace with our actual class names\n",
        "plot_confusion_matrix(cm, class_names)\n",
        "plt.show()\n",
        "\n",
        "print(f\"Accuracy: {accuracy:.2f}\")"
      ],
      "metadata": {
        "colab": {
          "base_uri": "https://localhost:8080/",
          "height": 504
        },
        "id": "BjLoQHqZ5OwG",
        "outputId": "e5be8a6e-3851-4bad-e79d-310e4f401e0c"
      },
      "execution_count": null,
      "outputs": [
        {
          "output_type": "display_data",
          "data": {
            "text/plain": [
              "<Figure size 640x480 with 2 Axes>"
            ],
            "image/png": "[encoded data removed]"
          },
          "metadata": {}
        },
        {
          "output_type": "stream",
          "name": "stdout",
          "text": [
            "Accuracy: 0.81\n"
          ]
        }
      ]
    },
    {
      "cell_type": "code",
      "execution_count": null,
      "metadata": {
        "colab": {
          "base_uri": "https://localhost:8080/",
          "height": 472
        },
        "id": "MfTxOsO51s-L",
        "outputId": "f04c66c7-5827-4f5e-81d9-c1e7bbb39650"
      },
      "outputs": [
        {
          "output_type": "display_data",
          "data": {
            "text/plain": [
              "<Figure size 640x480 with 1 Axes>"
            ],
            "image/png": "[encoded data removed]"
          },
          "metadata": {}
        }
      ],
      "source": [
        "# Plotting the loss\n",
        "epochs = range(1, epochs+1)\n",
        "\n",
        "plt.plot(epochs, loss_values, marker='o')\n",
        "plt.xlabel('Epochs')\n",
        "plt.ylabel('Loss')\n",
        "plt.title('Training Loss')\n",
        "plt.show()"
      ]
    },
    {
      "cell_type": "code",
      "execution_count": null,
      "metadata": {
        "colab": {
          "base_uri": "https://localhost:8080/"
        },
        "id": "Ooo9t3igPmGE",
        "outputId": "ad2824a4-4c61-4e08-94bc-c5402e6943e0"
      },
      "outputs": [
        {
          "output_type": "execute_result",
          "data": {
            "text/plain": [
              "array([0.80522088, 0.80677291])"
            ]
          },
          "metadata": {},
          "execution_count": 39
        }
      ],
      "source": [
        "from sklearn.metrics import f1_score\n",
        "\n",
        "f1_score(true_labels, predicted_labels, average='macro')\n",
        "\n",
        "f1_score(true_labels, predicted_labels, average='micro')\n",
        "\n",
        "f1_score(true_labels, predicted_labels, average='weighted')\n",
        "\n",
        "f1_score(true_labels, predicted_labels, average=None)"
      ]
    },
    {
      "cell_type": "code",
      "source": [
        "from sklearn.metrics import classification_report\n",
        "\n",
        "print(classification_report(true_labels, predicted_labels))"
      ],
      "metadata": {
        "colab": {
          "base_uri": "https://localhost:8080/"
        },
        "id": "3WdN9WPLPpAg",
        "outputId": "ef45ec05-728f-43f8-d779-a5ebf9055bab"
      },
      "execution_count": null,
      "outputs": [
        {
          "output_type": "stream",
          "name": "stdout",
          "text": [
            "              precision    recall  f1-score   support\n",
            "\n",
            "           0       0.81      0.81      0.81       498\n",
            "           1       0.81      0.81      0.81       502\n",
            "\n",
            "    accuracy                           0.81      1000\n",
            "   macro avg       0.81      0.81      0.81      1000\n",
            "weighted avg       0.81      0.81      0.81      1000\n",
            "\n"
          ]
        }
      ]
    }
  ],
  "metadata": {
    "colab": {
      "provenance": []
    },
    "kernelspec": {
      "display_name": "Python 3",
      "name": "python3"
    },
    "language_info": {
      "name": "python"
    }
  },
  "nbformat": 4,
  "nbformat_minor": 0
}