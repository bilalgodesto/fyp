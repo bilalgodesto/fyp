{
  "nbformat": 4,
  "nbformat_minor": 0,
  "metadata": {
    "colab": {
      "provenance": [],
      "machine_shape": "hm",
      "gpuType": "T4"
    },
    "kernelspec": {
      "name": "python3",
      "display_name": "Python 3"
    },
    "language_info": {
      "name": "python"
    },
    "accelerator": "GPU"
  },
  "cells": [
    {
      "cell_type": "code",
      "source": [
        "!pip install torch\n",
        "!pip install transformers\n",
        "!pip install requests"
      ],
      "metadata": {
        "id": "XewSVhH5hRE_",
        "colab": {
          "base_uri": "https://localhost:8080/"
        },
        "outputId": "641955f2-3da4-41af-c8a9-b874d2e030ec"
      },
      "execution_count": 4,
      "outputs": [
        {
          "output_type": "stream",
          "name": "stdout",
          "text": [
            "Requirement already satisfied: torch in /usr/local/lib/python3.10/dist-packages (2.0.1+cu118)\n",
            "Requirement already satisfied: filelock in /usr/local/lib/python3.10/dist-packages (from torch) (3.12.2)\n",
            "Requirement already satisfied: typing-extensions in /usr/local/lib/python3.10/dist-packages (from torch) (4.5.0)\n",
            "Requirement already satisfied: sympy in /usr/local/lib/python3.10/dist-packages (from torch) (1.12)\n",
            "Requirement already satisfied: networkx in /usr/local/lib/python3.10/dist-packages (from torch) (3.1)\n",
            "Requirement already satisfied: jinja2 in /usr/local/lib/python3.10/dist-packages (from torch) (3.1.2)\n",
            "Requirement already satisfied: triton==2.0.0 in /usr/local/lib/python3.10/dist-packages (from torch) (2.0.0)\n",
            "Requirement already satisfied: cmake in /usr/local/lib/python3.10/dist-packages (from triton==2.0.0->torch) (3.27.4.1)\n",
            "Requirement already satisfied: lit in /usr/local/lib/python3.10/dist-packages (from triton==2.0.0->torch) (16.0.6)\n",
            "Requirement already satisfied: MarkupSafe>=2.0 in /usr/local/lib/python3.10/dist-packages (from jinja2->torch) (2.1.3)\n",
            "Requirement already satisfied: mpmath>=0.19 in /usr/local/lib/python3.10/dist-packages (from sympy->torch) (1.3.0)\n",
            "Requirement already satisfied: transformers in /usr/local/lib/python3.10/dist-packages (4.33.1)\n",
            "Requirement already satisfied: filelock in /usr/local/lib/python3.10/dist-packages (from transformers) (3.12.2)\n",
            "Requirement already satisfied: huggingface-hub<1.0,>=0.15.1 in /usr/local/lib/python3.10/dist-packages (from transformers) (0.16.4)\n",
            "Requirement already satisfied: numpy>=1.17 in /usr/local/lib/python3.10/dist-packages (from transformers) (1.23.5)\n",
            "Requirement already satisfied: packaging>=20.0 in /usr/local/lib/python3.10/dist-packages (from transformers) (23.1)\n",
            "Requirement already satisfied: pyyaml>=5.1 in /usr/local/lib/python3.10/dist-packages (from transformers) (6.0.1)\n",
            "Requirement already satisfied: regex!=2019.12.17 in /usr/local/lib/python3.10/dist-packages (from transformers) (2023.6.3)\n",
            "Requirement already satisfied: requests in /usr/local/lib/python3.10/dist-packages (from transformers) (2.31.0)\n",
            "Requirement already satisfied: tokenizers!=0.11.3,<0.14,>=0.11.1 in /usr/local/lib/python3.10/dist-packages (from transformers) (0.13.3)\n",
            "Requirement already satisfied: safetensors>=0.3.1 in /usr/local/lib/python3.10/dist-packages (from transformers) (0.3.3)\n",
            "Requirement already satisfied: tqdm>=4.27 in /usr/local/lib/python3.10/dist-packages (from transformers) (4.66.1)\n",
            "Requirement already satisfied: fsspec in /usr/local/lib/python3.10/dist-packages (from huggingface-hub<1.0,>=0.15.1->transformers) (2023.6.0)\n",
            "Requirement already satisfied: typing-extensions>=3.7.4.3 in /usr/local/lib/python3.10/dist-packages (from huggingface-hub<1.0,>=0.15.1->transformers) (4.5.0)\n",
            "Requirement already satisfied: charset-normalizer<4,>=2 in /usr/local/lib/python3.10/dist-packages (from requests->transformers) (3.2.0)\n",
            "Requirement already satisfied: idna<4,>=2.5 in /usr/local/lib/python3.10/dist-packages (from requests->transformers) (3.4)\n",
            "Requirement already satisfied: urllib3<3,>=1.21.1 in /usr/local/lib/python3.10/dist-packages (from requests->transformers) (2.0.4)\n",
            "Requirement already satisfied: certifi>=2017.4.17 in /usr/local/lib/python3.10/dist-packages (from requests->transformers) (2023.7.22)\n",
            "Requirement already satisfied: requests in /usr/local/lib/python3.10/dist-packages (2.31.0)\n",
            "Requirement already satisfied: charset-normalizer<4,>=2 in /usr/local/lib/python3.10/dist-packages (from requests) (3.2.0)\n",
            "Requirement already satisfied: idna<4,>=2.5 in /usr/local/lib/python3.10/dist-packages (from requests) (3.4)\n",
            "Requirement already satisfied: urllib3<3,>=1.21.1 in /usr/local/lib/python3.10/dist-packages (from requests) (2.0.4)\n",
            "Requirement already satisfied: certifi>=2017.4.17 in /usr/local/lib/python3.10/dist-packages (from requests) (2023.7.22)\n"
          ]
        }
      ]
    },
    {
      "cell_type": "code",
      "source": [
        "\n",
        "from google.colab import drive\n",
        "drive.mount('/content/drive')\n",
        "import os\n",
        "path = os.path.join('/content/drive/MyDrive/')\n",
        "path"
      ],
      "metadata": {
        "colab": {
          "base_uri": "https://localhost:8080/",
          "height": 53
        },
        "id": "uYbc89qthRDK",
        "outputId": "4e2d8db5-8c3c-4997-a1b2-2091be3a4cba"
      },
      "execution_count": 2,
      "outputs": [
        {
          "output_type": "stream",
          "name": "stdout",
          "text": [
            "Mounted at /content/drive\n"
          ]
        },
        {
          "output_type": "execute_result",
          "data": {
            "text/plain": [
              "'/content/drive/MyDrive/'"
            ],
            "application/vnd.google.colaboratory.intrinsic+json": {
              "type": "string"
            }
          },
          "metadata": {},
          "execution_count": 2
        }
      ]
    },
    {
      "cell_type": "code",
      "source": [
        "import pandas as pd\n",
        "from PIL import Image\n",
        "from torchvision import transforms\n",
        "import torch\n",
        "from transformers import BertTokenizer\n",
        "from torch.utils.data import DataLoader, TensorDataset\n",
        "from torch.optim import Adam\n",
        "from torch.nn import CrossEntropyLoss\n",
        "from torchvision import models\n",
        "import requests\n",
        "from io import StringIO"
      ],
      "metadata": {
        "id": "DTB5dJ8ShRBj"
      },
      "execution_count": 5,
      "outputs": []
    },
    {
      "cell_type": "code",
      "source": [
        "\n",
        "# Step 1: Load the Data\n",
        "path = os.path.join('/content/drive/MyDrive/')\n",
        "# train_df = pd.read_csv(path + 'combined_train.csv')\n",
        "# test_df = pd.read_csv(path + 'combined_test.csv')\n",
        "# val_df = pd.read_csv(path + 'combined_val.csv')\n",
        "#https://drive.google.com/file/d/1ncoP9dP_JEjlOeIiwCM3DWwDVOPUtCDg/view?usp=sharing\n",
        "#https://drive.google.com/file/d/14ktV6XmTJ9GOZEXJ_8Z5aO57KSTy_LuC/view?usp=sharing\n",
        "#https://drive.google.com/file/d/1jeklgJ7eyJe_YHMii9RXcXxySIQrTh_O/view?usp=sharing\n",
        "\n",
        "\n",
        "url = \"https://drive.google.com/uc?id=1ncoP9dP_JEjlOeIiwCM3DWwDVOPUtCDg\"\n",
        "response = requests.get(url)\n",
        "train_df = pd.read_csv(StringIO(response.text))\n",
        "\n",
        "\n",
        "url = \"https://drive.google.com/uc?id=1ncoP9dP_JEjlOeIiwCM3DWwDVOPUtCDg\"\n",
        "response = requests.get(url)\n",
        "test_df = pd.read_csv(StringIO(response.text))\n",
        "\n",
        "\n",
        "\n",
        "url = \"https://drive.google.com/uc?id=1jeklgJ7eyJe_YHMii9RXcXxySIQrTh_O\"\n",
        "response = requests.get(url)\n",
        "val_df = pd.read_csv(StringIO(response.text))\n"
      ],
      "metadata": {
        "id": "OSKFaGXAC_MP"
      },
      "execution_count": 10,
      "outputs": []
    },
    {
      "cell_type": "code",
      "source": [
        "import pandas as pd\n",
        "\n",
        "def tokens_to_df(tokenized_data):\n",
        "    df = pd.DataFrame({\n",
        "        'input_ids': [ids.numpy().tolist() for ids in tokenized_data['input_ids']],\n",
        "        'attention_mask': [mask.numpy().tolist() for mask in tokenized_data['attention_mask']]\n",
        "    })\n",
        "    return df\n",
        "\n",
        "# # Convert the tokenized data to DataFrames\n",
        "# df_train = tokens_to_df(tokenized_train)\n",
        "# df_val = tokens_to_df(tokenized_val)\n",
        "# df_test = tokens_to_df(tokenized_test)"
      ],
      "metadata": {
        "id": "eSnqE48P5sIQ"
      },
      "execution_count": 7,
      "outputs": []
    },
    {
      "cell_type": "code",
      "execution_count": 15,
      "metadata": {
        "id": "zePgmYa7hM8q"
      },
      "outputs": [],
      "source": [
        "def process_dataframe(df, path):\n",
        "    image_data = []\n",
        "    labels = []\n",
        "\n",
        "    for idx, row in df.iterrows():\n",
        "        filename = row['filename']\n",
        "        full_path = os.path.join(path, filename)\n",
        "        try:\n",
        "            with Image.open(full_path) as img:\n",
        "                img_t = transform(img)\n",
        "                img_t = img_t.view(1, img_t.shape[0], img_t.shape[1], img_t.shape[2])\n",
        "                image_data.append(img_t)\n",
        "                labels.append(row['scenic'])\n",
        "        except Exception as e:\n",
        "            print(f\"Failed to load {filename} due to {e}\")\n",
        "\n",
        "    image_data = torch.cat(image_data)\n",
        "    labels = torch.tensor(labels, dtype=torch.long)\n",
        "\n",
        "    return TensorDataset(image_data, labels)\n"
      ]
    },
    {
      "cell_type": "code",
      "source": [
        "print(train_df['clean_comments'].isnull().sum())  # It should print 0 for all valid entries\n"
      ],
      "metadata": {
        "colab": {
          "base_uri": "https://localhost:8080/"
        },
        "id": "ks8KnIkDdfHm",
        "outputId": "13685c68-061f-46f8-c5e5-3bbd989cc864"
      },
      "execution_count": 13,
      "outputs": [
        {
          "output_type": "stream",
          "name": "stdout",
          "text": [
            "1\n"
          ]
        }
      ]
    },
    {
      "cell_type": "code",
      "source": [
        "train_df['clean_comments'].fillna('', inplace=True)\n"
      ],
      "metadata": {
        "id": "NTJTWEeXdj15"
      },
      "execution_count": 14,
      "outputs": []
    },
    {
      "cell_type": "code",
      "source": [
        "\n",
        "# # Step 2: Process Data\n",
        "# train_data, df_train = process_dataframe(train_df, path)\n",
        "# test_data, df_test = process_dataframe(test_df, path)\n",
        "# val_data, df_val = process_dataframe(val_df, path)\n",
        "\n",
        "\n",
        "train_data = process_dataframe(train_df, path)\n",
        "test_data = process_dataframe(test_df, path)\n",
        "val_data = process_dataframe(val_df, path)\n"
      ],
      "metadata": {
        "id": "xuMyOmjgDGkG"
      },
      "execution_count": 16,
      "outputs": []
    },
    {
      "cell_type": "code",
      "source": [
        "\n",
        "# Step 3: Create Dataloaders\n",
        "batch_size = 64\n",
        "train_loader = DataLoader(train_data, batch_size=batch_size, shuffle=True)\n",
        "test_loader = DataLoader(test_data, batch_size=batch_size, shuffle=False)\n",
        "val_loader = DataLoader(val_data, batch_size=batch_size, shuffle=False)\n"
      ],
      "metadata": {
        "id": "p5KXdc1HDH40"
      },
      "execution_count": 17,
      "outputs": []
    },
    {
      "cell_type": "code",
      "source": [
        "\n",
        "# Model, Loss, and Optimizer\n",
        "device = torch.device(\"cuda:0\" if torch.cuda.is_available() else \"cpu\")\n",
        "model = models.resnet50(pretrained=True)\n",
        "\n",
        "for param in model.parameters():\n",
        "    param.requires_grad = False\n",
        "\n",
        "num_ftrs = model.fc.in_features\n",
        "model.fc = torch.nn.Linear(num_ftrs, 2)\n",
        "model = model.to(device)\n"
      ],
      "metadata": {
        "colab": {
          "base_uri": "https://localhost:8080/"
        },
        "id": "-yz8H6R4DH1Y",
        "outputId": "52649934-639b-458d-e20b-7982d0c0768f"
      },
      "execution_count": 18,
      "outputs": [
        {
          "output_type": "stream",
          "name": "stderr",
          "text": [
            "/usr/local/lib/python3.10/dist-packages/torchvision/models/_utils.py:208: UserWarning: The parameter 'pretrained' is deprecated since 0.13 and may be removed in the future, please use 'weights' instead.\n",
            "  warnings.warn(\n",
            "/usr/local/lib/python3.10/dist-packages/torchvision/models/_utils.py:223: UserWarning: Arguments other than a weight enum or `None` for 'weights' are deprecated since 0.13 and may be removed in the future. The current behavior is equivalent to passing `weights=ResNet50_Weights.IMAGENET1K_V1`. You can also use `weights=ResNet50_Weights.DEFAULT` to get the most up-to-date weights.\n",
            "  warnings.warn(msg)\n",
            "Downloading: \"https://download.pytorch.org/models/resnet50-0676ba61.pth\" to /root/.cache/torch/hub/checkpoints/resnet50-0676ba61.pth\n",
            "100%|██████████| 97.8M/97.8M [00:00<00:00, 317MB/s]\n"
          ]
        }
      ]
    },
    {
      "cell_type": "code",
      "source": [
        "\n",
        "criterion = CrossEntropyLoss()\n",
        "optimizer = Adam(model.parameters(), lr=0.0001)\n",
        "loss_values = []\n",
        "# Step 4: Training Loop\n",
        "num_epochs = 60\n",
        "for epoch in range(num_epochs):\n",
        "    running_loss = 0.0\n",
        "    for images, labels in train_loader:\n",
        "        images = images.to(device)\n",
        "        labels = labels.to(device)\n",
        "        optimizer.zero_grad()\n",
        "        outputs = model(images)\n",
        "        loss = criterion(outputs, labels)\n",
        "        loss.backward()\n",
        "        optimizer.step()\n",
        "        running_loss += loss.item()\n",
        "    print(f\"Epoch {epoch + 1}, Loss: {running_loss/len(train_loader)}\")\n",
        "    avg_loss = running_loss / len(train_loader)\n",
        "    loss_values.append(avg_loss)  # Append the average loss for this epoch\n",
        "    print(f\"Epoch {epoch + 1}, Loss: {avg_loss}\")\n",
        "\n",
        "print('Finished Training')"
      ],
      "metadata": {
        "colab": {
          "base_uri": "https://localhost:8080/"
        },
        "id": "U6-uwj7ODHx_",
        "outputId": "e893cd1d-607b-49f4-b9c6-beda3c14e1f7"
      },
      "execution_count": 19,
      "outputs": [
        {
          "output_type": "stream",
          "name": "stdout",
          "text": [
            "Epoch 1, Loss: 0.5055240337848663\n",
            "Epoch 1, Loss: 0.5055240337848663\n",
            "Epoch 2, Loss: 0.3575522531270981\n",
            "Epoch 2, Loss: 0.3575522531270981\n",
            "Epoch 3, Loss: 0.32034322535991666\n",
            "Epoch 3, Loss: 0.32034322535991666\n",
            "Epoch 4, Loss: 0.29905040860176085\n",
            "Epoch 4, Loss: 0.29905040860176085\n",
            "Epoch 5, Loss: 0.28702767777442934\n",
            "Epoch 5, Loss: 0.28702767777442934\n",
            "Epoch 6, Loss: 0.2779628703594208\n",
            "Epoch 6, Loss: 0.2779628703594208\n",
            "Epoch 7, Loss: 0.27552505445480346\n",
            "Epoch 7, Loss: 0.27552505445480346\n",
            "Epoch 8, Loss: 0.2681884481906891\n",
            "Epoch 8, Loss: 0.2681884481906891\n",
            "Epoch 9, Loss: 0.2639163362979889\n",
            "Epoch 9, Loss: 0.2639163362979889\n",
            "Epoch 10, Loss: 0.26307286739349367\n",
            "Epoch 10, Loss: 0.26307286739349367\n",
            "Epoch 11, Loss: 0.256629731297493\n",
            "Epoch 11, Loss: 0.256629731297493\n",
            "Epoch 12, Loss: 0.2568952536582947\n",
            "Epoch 12, Loss: 0.2568952536582947\n",
            "Epoch 13, Loss: 0.2537415682077408\n",
            "Epoch 13, Loss: 0.2537415682077408\n",
            "Epoch 14, Loss: 0.2537066490650177\n",
            "Epoch 14, Loss: 0.2537066490650177\n",
            "Epoch 15, Loss: 0.24784000819921492\n",
            "Epoch 15, Loss: 0.24784000819921492\n",
            "Epoch 16, Loss: 0.25011555540561675\n",
            "Epoch 16, Loss: 0.25011555540561675\n",
            "Epoch 17, Loss: 0.24766703581809998\n",
            "Epoch 17, Loss: 0.24766703581809998\n",
            "Epoch 18, Loss: 0.24455854189395904\n",
            "Epoch 18, Loss: 0.24455854189395904\n",
            "Epoch 19, Loss: 0.24223212319612503\n",
            "Epoch 19, Loss: 0.24223212319612503\n",
            "Epoch 20, Loss: 0.24160642898082732\n",
            "Epoch 20, Loss: 0.24160642898082732\n",
            "Epoch 21, Loss: 0.24101440358161927\n",
            "Epoch 21, Loss: 0.24101440358161927\n",
            "Epoch 22, Loss: 0.24328813236951827\n",
            "Epoch 22, Loss: 0.24328813236951827\n",
            "Epoch 23, Loss: 0.24039545547962188\n",
            "Epoch 23, Loss: 0.24039545547962188\n",
            "Epoch 24, Loss: 0.23686307352781297\n",
            "Epoch 24, Loss: 0.23686307352781297\n",
            "Epoch 25, Loss: 0.23640688234567642\n",
            "Epoch 25, Loss: 0.23640688234567642\n",
            "Epoch 26, Loss: 0.2377343547940254\n",
            "Epoch 26, Loss: 0.2377343547940254\n",
            "Epoch 27, Loss: 0.23953433644771577\n",
            "Epoch 27, Loss: 0.23953433644771577\n",
            "Epoch 28, Loss: 0.23482854866981506\n",
            "Epoch 28, Loss: 0.23482854866981506\n",
            "Epoch 29, Loss: 0.23839443826675416\n",
            "Epoch 29, Loss: 0.23839443826675416\n",
            "Epoch 30, Loss: 0.2311790678501129\n",
            "Epoch 30, Loss: 0.2311790678501129\n",
            "Epoch 31, Loss: 0.22866239339113237\n",
            "Epoch 31, Loss: 0.22866239339113237\n",
            "Epoch 32, Loss: 0.23069968801736832\n",
            "Epoch 32, Loss: 0.23069968801736832\n",
            "Epoch 33, Loss: 0.23309853452444076\n",
            "Epoch 33, Loss: 0.23309853452444076\n",
            "Epoch 34, Loss: 0.23423470389842987\n",
            "Epoch 34, Loss: 0.23423470389842987\n",
            "Epoch 35, Loss: 0.23045883893966676\n",
            "Epoch 35, Loss: 0.23045883893966676\n",
            "Epoch 36, Loss: 0.22976195573806762\n",
            "Epoch 36, Loss: 0.22976195573806762\n",
            "Epoch 37, Loss: 0.2379262216091156\n",
            "Epoch 37, Loss: 0.2379262216091156\n",
            "Epoch 38, Loss: 0.2332185760140419\n",
            "Epoch 38, Loss: 0.2332185760140419\n",
            "Epoch 39, Loss: 0.22926151233911515\n",
            "Epoch 39, Loss: 0.22926151233911515\n",
            "Epoch 40, Loss: 0.22776854997873305\n",
            "Epoch 40, Loss: 0.22776854997873305\n",
            "Epoch 41, Loss: 0.22876603996753692\n",
            "Epoch 41, Loss: 0.22876603996753692\n",
            "Epoch 42, Loss: 0.2238771224617958\n",
            "Epoch 42, Loss: 0.2238771224617958\n",
            "Epoch 43, Loss: 0.22336042535305023\n",
            "Epoch 43, Loss: 0.22336042535305023\n",
            "Epoch 44, Loss: 0.2241528522968292\n",
            "Epoch 44, Loss: 0.2241528522968292\n",
            "Epoch 45, Loss: 0.22515489012002946\n",
            "Epoch 45, Loss: 0.22515489012002946\n",
            "Epoch 46, Loss: 0.22363728445768355\n",
            "Epoch 46, Loss: 0.22363728445768355\n",
            "Epoch 47, Loss: 0.2266444125175476\n",
            "Epoch 47, Loss: 0.2266444125175476\n",
            "Epoch 48, Loss: 0.224815633893013\n",
            "Epoch 48, Loss: 0.224815633893013\n",
            "Epoch 49, Loss: 0.22820435577630996\n",
            "Epoch 49, Loss: 0.22820435577630996\n",
            "Epoch 50, Loss: 0.22154212754964828\n",
            "Epoch 50, Loss: 0.22154212754964828\n",
            "Epoch 51, Loss: 0.22446619534492493\n",
            "Epoch 51, Loss: 0.22446619534492493\n",
            "Epoch 52, Loss: 0.22060631483793258\n",
            "Epoch 52, Loss: 0.22060631483793258\n",
            "Epoch 53, Loss: 0.22538319313526153\n",
            "Epoch 53, Loss: 0.22538319313526153\n",
            "Epoch 54, Loss: 0.220256587266922\n",
            "Epoch 54, Loss: 0.220256587266922\n",
            "Epoch 55, Loss: 0.22101738172769547\n",
            "Epoch 55, Loss: 0.22101738172769547\n",
            "Epoch 56, Loss: 0.2219996758699417\n",
            "Epoch 56, Loss: 0.2219996758699417\n",
            "Epoch 57, Loss: 0.2198022245168686\n",
            "Epoch 57, Loss: 0.2198022245168686\n",
            "Epoch 58, Loss: 0.22201579558849335\n",
            "Epoch 58, Loss: 0.22201579558849335\n",
            "Epoch 59, Loss: 0.22154267251491547\n",
            "Epoch 59, Loss: 0.22154267251491547\n",
            "Epoch 60, Loss: 0.21981782495975494\n",
            "Epoch 60, Loss: 0.21981782495975494\n",
            "Finished Training\n"
          ]
        }
      ]
    },
    {
      "cell_type": "code",
      "source": [
        "import matplotlib.pyplot as plt\n",
        "\n",
        "epochs_range = range(1, num_epochs + 1)\n",
        "\n",
        "plt.plot(epochs_range, loss_values, marker='o')\n",
        "plt.xlabel('Epochs')\n",
        "plt.ylabel('Loss')\n",
        "plt.title('Training Loss')\n",
        "plt.show()"
      ],
      "metadata": {
        "colab": {
          "base_uri": "https://localhost:8080/",
          "height": 472
        },
        "id": "jO9bKp3XPKLH",
        "outputId": "0ccb5a95-0bf4-42fb-daa8-267443d669ec"
      },
      "execution_count": 21,
      "outputs": [
        {
          "output_type": "display_data",
          "data": {
            "text/plain": [
              "<Figure size 640x480 with 1 Axes>"
            ],
            "image/png": "[encoded data removed]"
          },
          "metadata": {}
        }
      ]
    },
    {
      "cell_type": "code",
      "source": [
        "def evaluate_model(model, dataloader, device):\n",
        "    model.eval()  # Set the model to evaluation mode\n",
        "    true_labels = []\n",
        "    predicted_labels = []\n",
        "\n",
        "    with torch.no_grad():\n",
        "        for images, labels in dataloader:\n",
        "            images = images.to(device)\n",
        "            outputs = model(images)\n",
        "            _, preds = torch.max(outputs, 1)  # get the predicted classes\n",
        "            true_labels.extend(labels.tolist())\n",
        "            predicted_labels.extend(preds.cpu().tolist())\n",
        "\n",
        "    return true_labels, predicted_labels\n",
        "\n",
        "# Get predictions for both test and validation sets\n",
        "true_labels_train, predicted_labels_train = evaluate_model(model, train_loader, device)\n",
        "\n",
        "true_labels_test, predicted_labels_test = evaluate_model(model, test_loader, device)\n",
        "true_labels_val, predicted_labels_val = evaluate_model(model, val_loader, device)\n"
      ],
      "metadata": {
        "id": "8ADkicYfDHuF"
      },
      "execution_count": 22,
      "outputs": []
    },
    {
      "cell_type": "code",
      "source": [
        "from sklearn.metrics import accuracy_score, confusion_matrix, f1_score\n"
      ],
      "metadata": {
        "id": "i9HjH1BoDHp4"
      },
      "execution_count": 23,
      "outputs": []
    },
    {
      "cell_type": "code",
      "source": [
        "from sklearn.metrics import f1_score\n",
        "\n",
        "f1_score(true_labels_test, predicted_labels_test, average='macro')\n",
        "\n",
        "f1_score(true_labels_test, predicted_labels_test, average='micro')\n",
        "\n",
        "f1_score(true_labels_test, predicted_labels_test, average='weighted')\n",
        "\n",
        "f1_score(true_labels_test, predicted_labels_test, average=None)"
      ],
      "metadata": {
        "colab": {
          "base_uri": "https://localhost:8080/"
        },
        "id": "ybAl6HpTPcwJ",
        "outputId": "b173bcec-e4f5-43ab-dc42-0cf71089ed42"
      },
      "execution_count": 24,
      "outputs": [
        {
          "output_type": "execute_result",
          "data": {
            "text/plain": [
              "array([0.91518193, 0.91581569])"
            ]
          },
          "metadata": {},
          "execution_count": 24
        }
      ]
    },
    {
      "cell_type": "code",
      "source": [
        "from sklearn.metrics import classification_report\n",
        "\n",
        "print(classification_report(true_labels_train, predicted_labels_train))"
      ],
      "metadata": {
        "colab": {
          "base_uri": "https://localhost:8080/"
        },
        "id": "0pN9nvNfQxpg",
        "outputId": "ba0c80fc-e60f-45fb-976c-072af1363b31"
      },
      "execution_count": 25,
      "outputs": [
        {
          "output_type": "stream",
          "name": "stdout",
          "text": [
            "              precision    recall  f1-score   support\n",
            "\n",
            "           0       0.92      0.91      0.92      4000\n",
            "           1       0.91      0.92      0.92      4000\n",
            "\n",
            "    accuracy                           0.92      8000\n",
            "   macro avg       0.92      0.92      0.92      8000\n",
            "weighted avg       0.92      0.92      0.92      8000\n",
            "\n"
          ]
        }
      ]
    },
    {
      "cell_type": "code",
      "source": [
        "from sklearn.metrics import classification_report\n",
        "\n",
        "print(classification_report(true_labels_val, predicted_labels_val))"
      ],
      "metadata": {
        "colab": {
          "base_uri": "https://localhost:8080/"
        },
        "id": "z4haZLzVQFS9",
        "outputId": "f5543bb5-68f2-4313-de23-307952b375a3"
      },
      "execution_count": 26,
      "outputs": [
        {
          "output_type": "stream",
          "name": "stdout",
          "text": [
            "              precision    recall  f1-score   support\n",
            "\n",
            "           0       0.90      0.91      0.90       500\n",
            "           1       0.91      0.90      0.90       500\n",
            "\n",
            "    accuracy                           0.90      1000\n",
            "   macro avg       0.90      0.90      0.90      1000\n",
            "weighted avg       0.90      0.90      0.90      1000\n",
            "\n"
          ]
        }
      ]
    },
    {
      "cell_type": "code",
      "source": [
        "def compute_metrics(true_labels, predicted_labels):\n",
        "    accuracy = accuracy_score(true_labels, predicted_labels)\n",
        "    conf_matrix = confusion_matrix(true_labels, predicted_labels)\n",
        "    f1 = f1_score(true_labels, predicted_labels)\n",
        "    return accuracy, conf_matrix, f1\n",
        "\n",
        "# Compute metrics for test data\n",
        "accuracy_test, conf_matrix_test, f1_test = compute_metrics(true_labels_test, predicted_labels_test)\n",
        "print(\"Test Data Metrics:\")\n",
        "print(\"Accuracy:\", accuracy_test)\n",
        "print(\"Confusion Matrix:\\n\", conf_matrix_test)\n",
        "print(\"F1 Score:\", f1_test)\n",
        "\n",
        "# Compute metrics for validation data\n",
        "accuracy_val, conf_matrix_val, f1_val = compute_metrics(true_labels_val, predicted_labels_val)\n",
        "print(\"\\nValidation Data Metrics:\")\n",
        "print(\"Accuracy:\", accuracy_val)\n",
        "print(\"Confusion Matrix:\\n\", conf_matrix_val)\n",
        "print(\"F1 Score:\", f1_val)\n"
      ],
      "metadata": {
        "colab": {
          "base_uri": "https://localhost:8080/"
        },
        "id": "-Mf3SwFKDHn1",
        "outputId": "3b34fe1d-3f4d-4cc3-faca-c8c2c054f12e"
      },
      "execution_count": 27,
      "outputs": [
        {
          "output_type": "stream",
          "name": "stdout",
          "text": [
            "Test Data Metrics:\n",
            "Accuracy: 0.9155\n",
            "Confusion Matrix:\n",
            " [[3647  353]\n",
            " [ 323 3677]]\n",
            "F1 Score: 0.9158156911581569\n",
            "\n",
            "Validation Data Metrics:\n",
            "Accuracy: 0.902\n",
            "Confusion Matrix:\n",
            " [[454  46]\n",
            " [ 52 448]]\n",
            "F1 Score: 0.9014084507042253\n"
          ]
        }
      ]
    },
    {
      "cell_type": "code",
      "source": [
        "# Test Data Metrics:\n",
        "# Accuracy: 0.903\n",
        "# Confusion Matrix:\n",
        "#  [[465  40]\n",
        "#  [ 57 438]]\n",
        "# F1 Score: 0.9003083247687566\n",
        "\n",
        "# Validation Data Metrics:\n",
        "# Accuracy: 0.901\n",
        "# Confusion Matrix:\n",
        "#  [[455  43]\n",
        "#  [ 56 446]]\n",
        "# F1 Score: 0.9001009081735621"
      ],
      "metadata": {
        "id": "IjpH7rJODHlu"
      },
      "execution_count": null,
      "outputs": []
    },
    {
      "cell_type": "code",
      "source": [
        "import matplotlib.pyplot as plt\n",
        "import seaborn as sns\n",
        "from sklearn.metrics import accuracy_score, confusion_matrix, f1_score\n",
        "\n",
        "def compute_metrics(true_labels, predicted_labels):\n",
        "    accuracy = accuracy_score(true_labels, predicted_labels)\n",
        "    conf_matrix = confusion_matrix(true_labels, predicted_labels)\n",
        "    f1 = f1_score(true_labels, predicted_labels)\n",
        "    return accuracy, conf_matrix, f1\n",
        "\n",
        "def plot_confusion_matrix(conf_matrix, title):\n",
        "    plt.figure(figsize=(6, 6))\n",
        "    sns.heatmap(conf_matrix, annot=True, fmt='d', cmap='Blues')\n",
        "    plt.title(title)\n",
        "    plt.xlabel('Predicted Labels')\n",
        "    plt.ylabel('True Labels')\n",
        "    plt.show()\n",
        "\n",
        "plot_confusion_matrix(conf_matrix_test, 'd')\n",
        "# Compute metrics for test data\n",
        "accuracy_test, conf_matrix_test, f1_test = compute_metrics(true_labels_test, predicted_labels_test)\n",
        "print(\"Test Data Metrics:\")\n",
        "print(\"Accuracy:\", accuracy_test)\n",
        "print(\"Confusion Matrix:\\n\", conf_matrix_test)\n",
        "print(\"F1 Score:\", f1_test)\n",
        "\n"
      ],
      "metadata": {
        "id": "Or-glxF-DHjp",
        "colab": {
          "base_uri": "https://localhost:8080/",
          "height": 671
        },
        "outputId": "a713316a-b7cd-4b74-a9a2-83ff328769d4"
      },
      "execution_count": 28,
      "outputs": [
        {
          "output_type": "display_data",
          "data": {
            "text/plain": [
              "<Figure size 600x600 with 2 Axes>"
            ],
            "image/png": "[encoded data removed]"
          },
          "metadata": {}
        },
        {
          "output_type": "stream",
          "name": "stdout",
          "text": [
            "Test Data Metrics:\n",
            "Accuracy: 0.9155\n",
            "Confusion Matrix:\n",
            " [[3647  353]\n",
            " [ 323 3677]]\n",
            "F1 Score: 0.9158156911581569\n"
          ]
        }
      ]
    },
    {
      "cell_type": "code",
      "source": [],
      "metadata": {
        "id": "-3q8pLSPDHe7"
      },
      "execution_count": null,
      "outputs": []
    }
  ]
}