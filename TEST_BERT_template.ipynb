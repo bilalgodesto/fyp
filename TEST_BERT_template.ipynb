{
  "cells": [
    {
      "cell_type": "markdown",
      "metadata": {
        "id": "2JKy0UM-F7Ph"
      },
      "source": [
        "# BERT MODEL\n",
        "\n",
        "\"Bidirectional\" aspect of BERT means that it doesn't read text like a book (one page at a time) but rather like a person who can read and understand a sentence by considering both what came before and what comes after each word."
      ]
    },
    {
      "cell_type": "markdown",
      "source": [
        "# Reading Files (Test-Train-Validation)"
      ],
      "metadata": {
        "id": "X6Gb8wuJzOJh"
      }
    },
    {
      "cell_type": "code",
      "source": [
        "!pip install requests"
      ],
      "metadata": {
        "id": "lgiGm-_mOTqO"
      },
      "execution_count": null,
      "outputs": []
    },
    {
      "cell_type": "code",
      "execution_count": 2,
      "metadata": {
        "id": "RANMBVaRq_bZ"
      },
      "outputs": [],
      "source": [
        "import pandas as pd\n",
        "from PIL import Image\n",
        "from torchvision import transforms\n",
        "import os\n",
        "import time\n",
        "import torch\n",
        "import requests\n",
        "from io import StringIO"
      ]
    },
    {
      "cell_type": "code",
      "source": [
        "# Read the dataframe\n",
        "url1 = \"https://drive.google.com/uc?id=1eyUZPqxU1H-heqZHFhQ74hqp5rlBLWsA\"\n",
        "response1 = requests.get(url1)\n",
        "train_df = pd.read_csv(StringIO(response1.text))\n",
        "\n",
        "url2 = \"https://drive.google.com/uc?id=1eX9AKnj2ALQt9dD3n_UcFGe3mO7uXuiS\"\n",
        "response2 = requests.get(url2)\n",
        "test_df = pd.read_csv(StringIO(response2.text))\n",
        "\n",
        "url3 = \"https://drive.google.com/uc?id=17f9oKnzUBI_5EaL_cg40zdL6eneWxZNY\"\n",
        "response3 = requests.get(url3)\n",
        "val_df = pd.read_csv(StringIO(response3.text))\n",
        "\n",
        "train_text= train_df['clean_comments'].values\n",
        "test_text= test_df['clean_comments'].values\n",
        "val_text=val_df['clean_comments'].values\n",
        "\n",
        "train_labels= train_df['scenic'].values\n",
        "test_labels= test_df['scenic'].values\n",
        "val_label= val_df['scenic'].values"
      ],
      "metadata": {
        "id": "MXqfUz5I4uyr"
      },
      "execution_count": 3,
      "outputs": []
    },
    {
      "cell_type": "code",
      "source": [
        "train_df"
      ],
      "metadata": {
        "id": "fBQhF1FhPNzT"
      },
      "execution_count": null,
      "outputs": []
    },
    {
      "cell_type": "code",
      "source": [
        "train_text[:5]"
      ],
      "metadata": {
        "colab": {
          "base_uri": "https://localhost:8080/"
        },
        "id": "hl6B6L64-ICx",
        "outputId": "26bfb742-09b4-495d-939f-1620c95d703d"
      },
      "execution_count": null,
      "outputs": [
        {
          "output_type": "execute_result",
          "data": {
            "text/plain": [
              "array(['northern end long mountain', 'looking north',\n",
              "       'old railway line used farm road remnant previous road bridge farm',\n",
              "       'clump tree teampan', 'looking north west'], dtype=object)"
            ]
          },
          "metadata": {},
          "execution_count": 4
        }
      ]
    },
    {
      "cell_type": "markdown",
      "metadata": {
        "id": "ObwldAgYoueY"
      },
      "source": [
        "# Bert- Base -Uncased Model\n",
        "\n",
        "We will use \"BertForSequenceClassification\". This is the normal BERT model with an added Single layer on top will be binary classification for sentences."
      ]
    },
    {
      "cell_type": "code",
      "execution_count": 4,
      "metadata": {
        "id": "Tvuwnj0LsHEa",
        "colab": {
          "base_uri": "https://localhost:8080/"
        },
        "outputId": "82acad6f-d92c-40e6-bc9f-7cc1f263625b"
      },
      "outputs": [
        {
          "output_type": "stream",
          "name": "stdout",
          "text": [
            "Collecting transformers\n",
            "  Downloading transformers-4.33.2-py3-none-any.whl (7.6 MB)\n",
            "\u001b[2K     \u001b[90m━━━━━━━━━━━━━━━━━━━━━━━━━━━━━━━━━━━━━━━━\u001b[0m \u001b[32m7.6/7.6 MB\u001b[0m \u001b[31m41.3 MB/s\u001b[0m eta \u001b[36m0:00:00\u001b[0m\n",
            "\u001b[?25hRequirement already satisfied: filelock in /usr/local/lib/python3.10/dist-packages (from transformers) (3.12.2)\n",
            "Collecting huggingface-hub<1.0,>=0.15.1 (from transformers)\n",
            "  Downloading huggingface_hub-0.17.2-py3-none-any.whl (294 kB)\n",
            "\u001b[2K     \u001b[90m━━━━━━━━━━━━━━━━━━━━━━━━━━━━━━━━━━━━━━\u001b[0m \u001b[32m294.9/294.9 kB\u001b[0m \u001b[31m25.1 MB/s\u001b[0m eta \u001b[36m0:00:00\u001b[0m\n",
            "\u001b[?25hRequirement already satisfied: numpy>=1.17 in /usr/local/lib/python3.10/dist-packages (from transformers) (1.23.5)\n",
            "Requirement already satisfied: packaging>=20.0 in /usr/local/lib/python3.10/dist-packages (from transformers) (23.1)\n",
            "Requirement already satisfied: pyyaml>=5.1 in /usr/local/lib/python3.10/dist-packages (from transformers) (6.0.1)\n",
            "Requirement already satisfied: regex!=2019.12.17 in /usr/local/lib/python3.10/dist-packages (from transformers) (2023.6.3)\n",
            "Requirement already satisfied: requests in /usr/local/lib/python3.10/dist-packages (from transformers) (2.31.0)\n",
            "Collecting tokenizers!=0.11.3,<0.14,>=0.11.1 (from transformers)\n",
            "  Downloading tokenizers-0.13.3-cp310-cp310-manylinux_2_17_x86_64.manylinux2014_x86_64.whl (7.8 MB)\n",
            "\u001b[2K     \u001b[90m━━━━━━━━━━━━━━━━━━━━━━━━━━━━━━━━━━━━━━━━\u001b[0m \u001b[32m7.8/7.8 MB\u001b[0m \u001b[31m65.6 MB/s\u001b[0m eta \u001b[36m0:00:00\u001b[0m\n",
            "\u001b[?25hCollecting safetensors>=0.3.1 (from transformers)\n",
            "  Downloading safetensors-0.3.3-cp310-cp310-manylinux_2_17_x86_64.manylinux2014_x86_64.whl (1.3 MB)\n",
            "\u001b[2K     \u001b[90m━━━━━━━━━━━━━━━━━━━━━━━━━━━━━━━━━━━━━━━━\u001b[0m \u001b[32m1.3/1.3 MB\u001b[0m \u001b[31m53.6 MB/s\u001b[0m eta \u001b[36m0:00:00\u001b[0m\n",
            "\u001b[?25hRequirement already satisfied: tqdm>=4.27 in /usr/local/lib/python3.10/dist-packages (from transformers) (4.66.1)\n",
            "Requirement already satisfied: fsspec in /usr/local/lib/python3.10/dist-packages (from huggingface-hub<1.0,>=0.15.1->transformers) (2023.6.0)\n",
            "Requirement already satisfied: typing-extensions>=3.7.4.3 in /usr/local/lib/python3.10/dist-packages (from huggingface-hub<1.0,>=0.15.1->transformers) (4.5.0)\n",
            "Requirement already satisfied: charset-normalizer<4,>=2 in /usr/local/lib/python3.10/dist-packages (from requests->transformers) (3.2.0)\n",
            "Requirement already satisfied: idna<4,>=2.5 in /usr/local/lib/python3.10/dist-packages (from requests->transformers) (3.4)\n",
            "Requirement already satisfied: urllib3<3,>=1.21.1 in /usr/local/lib/python3.10/dist-packages (from requests->transformers) (2.0.4)\n",
            "Requirement already satisfied: certifi>=2017.4.17 in /usr/local/lib/python3.10/dist-packages (from requests->transformers) (2023.7.22)\n",
            "Installing collected packages: tokenizers, safetensors, huggingface-hub, transformers\n",
            "Successfully installed huggingface-hub-0.17.2 safetensors-0.3.3 tokenizers-0.13.3 transformers-4.33.2\n"
          ]
        }
      ],
      "source": [
        "!pip install transformers"
      ]
    },
    {
      "cell_type": "code",
      "execution_count": 5,
      "metadata": {
        "id": "p6kVvG7no2xQ",
        "colab": {
          "base_uri": "https://localhost:8080/",
          "height": 113,
          "referenced_widgets": [
            "e107c92b1fb74d9d995f796eef967eb3",
            "d8a969b7f9644b66a5a00f36ec080430",
            "5ed76756a3b9440da84c6033da8c5bbb",
            "5094215f714e41e5b7b0b853a9ecedca",
            "19b43db55776416d8bf323de2d5a9beb",
            "50e950d8e6484f408d3c53e8bebdca7b",
            "b1aa791e7f12488a9197b890ac33d428",
            "2ecf320e7c354378ac701b5d3968b553",
            "f3b9c84171aa4d4e9937546e2d7d02d0",
            "eeda3266d77a4c3d9e7cd6644f6967d4",
            "1d73390a1db8411ab89f78e7f07e939b",
            "861337fe4f3d430e98f757c45532cee2",
            "49aeac0ea1d4478fa10b8c7ab67c52a4",
            "ee516338436a433aaf93ecfa194b7358",
            "70d95e2cbb39465697203281cf40392f",
            "83ed74435c384b53891467b93dcda3e6",
            "fb6c20c501a745c7b58609bd70496234",
            "55d4ef909b7a4bf2b5b253aa7243984e",
            "1131d36a90054ded8f97c4e763a9c23e",
            "54614c669f6a4c9f8d88d236bf2190b9",
            "741766fb1ae44c7f9b8a3d51a1a2e3dd",
            "8d4c81762f15498590055c61a2e9227e",
            "30e10545d01f4081a47336404dde116f",
            "6acd7c333f644a20bbda81db7df957ba",
            "768a8927e8b24d5a85bf2055d7aaea7a",
            "ccdddf26c14b4662a85fff0b582efb86",
            "6faa8b4e44834f6aa1c438d6625d82d8",
            "d9d1e4e5b44c4c56b110f1e8605a1d94",
            "23744f9155f842d1b0134d15fac9d374",
            "f0099da10ce645fb8b4f81bf313b4b3f",
            "d7160371113e4b6c88ee0bb8bc97ec27",
            "fd7db862c1ab4b1e9c9eb3727b36f6ac",
            "583d6d13391049f992136dc16bad0f7f"
          ]
        },
        "outputId": "0281e08b-d9c3-4cf4-9615-556d7a2dcf91"
      },
      "outputs": [
        {
          "output_type": "display_data",
          "data": {
            "text/plain": [
              "Downloading (…)solve/main/vocab.txt:   0%|          | 0.00/232k [00:00<?, ?B/s]"
            ],
            "application/vnd.jupyter.widget-view+json": {
              "version_major": 2,
              "version_minor": 0,
              "model_id": "e107c92b1fb74d9d995f796eef967eb3"
            }
          },
          "metadata": {}
        },
        {
          "output_type": "display_data",
          "data": {
            "text/plain": [
              "Downloading (…)okenizer_config.json:   0%|          | 0.00/28.0 [00:00<?, ?B/s]"
            ],
            "application/vnd.jupyter.widget-view+json": {
              "version_major": 2,
              "version_minor": 0,
              "model_id": "861337fe4f3d430e98f757c45532cee2"
            }
          },
          "metadata": {}
        },
        {
          "output_type": "display_data",
          "data": {
            "text/plain": [
              "Downloading (…)lve/main/config.json:   0%|          | 0.00/570 [00:00<?, ?B/s]"
            ],
            "application/vnd.jupyter.widget-view+json": {
              "version_major": 2,
              "version_minor": 0,
              "model_id": "30e10545d01f4081a47336404dde116f"
            }
          },
          "metadata": {}
        }
      ],
      "source": [
        "from transformers import BertTokenizer, BertModel\n",
        "import matplotlib.pyplot as plt\n",
        "\n",
        "tokenizer = BertTokenizer.from_pretrained('bert-base-uncased')"
      ]
    },
    {
      "cell_type": "markdown",
      "source": [
        "Tokenizing the first text as an example."
      ],
      "metadata": {
        "id": "aNtFJwi_1vTu"
      }
    },
    {
      "cell_type": "code",
      "execution_count": null,
      "metadata": {
        "colab": {
          "base_uri": "https://localhost:8080/"
        },
        "id": "5QwvHZqwpgUl",
        "outputId": "85bb2abb-c24f-4075-ff3e-2d886d3f3782"
      },
      "outputs": [
        {
          "output_type": "stream",
          "name": "stdout",
          "text": [
            " Original sentence:  northern end long mountain\n",
            "Tokenized sentence:  ['northern', 'end', 'long', 'mountain']\n",
            "Token IDs:  [2642, 2203, 2146, 3137]\n"
          ]
        }
      ],
      "source": [
        "print(' Original sentence: ', train_text[0])\n",
        "print('Tokenized sentence: ', tokenizer.tokenize(train_text[0]))\n",
        "print('Token IDs: ', tokenizer.convert_tokens_to_ids(tokenizer.tokenize(train_text[0])))"
      ]
    },
    {
      "cell_type": "code",
      "source": [
        "# Calculate the maximum word count\n",
        "max_word_count = max([len(text.split()) for text in train_text])\n",
        "print(\"Maximum word count:\", max_word_count)"
      ],
      "metadata": {
        "colab": {
          "base_uri": "https://localhost:8080/"
        },
        "id": "T6pfpbDkQyHb",
        "outputId": "64c2e27b-2dc8-4563-abbf-13df521c7184"
      },
      "execution_count": 6,
      "outputs": [
        {
          "output_type": "stream",
          "name": "stdout",
          "text": [
            "Maximum word count: 201\n"
          ]
        }
      ]
    },
    {
      "cell_type": "markdown",
      "metadata": {
        "id": "f4dcVgpU1bL5"
      },
      "source": [
        "#Tokenising"
      ]
    },
    {
      "cell_type": "markdown",
      "metadata": {
        "id": "Jxik_XeR1AFX"
      },
      "source": [
        "- To avoid subword parameter we split the text first.  \n",
        "\n",
        "- In this example, the tokenizer.encode method is modified to include padding using the padding='max_length' argument and specifying a maximum length of 64 tokens (max_length=64). The torch.tensor conversion ensures that all sequences have the same length by padding them with zeros.  \n",
        "\n",
        "- Truncation used to shortening a text to the length. This is necessary because models  require input size of 100. If a text is too long, it is going to be truncated. After, by padding all other texts to max_length we making sure that all texts are in the same length."
      ]
    },
    {
      "cell_type": "code",
      "execution_count": 8,
      "metadata": {
        "id": "9rbEza-B0yHl"
      },
      "outputs": [],
      "source": [
        "# Word-level tokenization using whitespace tokenizer\n",
        "train_tokens_word_level = [text.split()[:364] for text in train_text]\n",
        "\n",
        "# BERT tokenization on word-level tokens\n",
        "train_tokens_bert = [tokenizer.encode(text, truncation=True, padding='max_length', max_length=100) for text in train_tokens_word_level]\n",
        "\n",
        "train_tokens_before_padding = [tokenizer.encode(text, truncation=True, padding=True) for text in train_tokens_word_level]"
      ]
    },
    {
      "cell_type": "code",
      "execution_count": 9,
      "metadata": {
        "colab": {
          "base_uri": "https://localhost:8080/"
        },
        "id": "u9duPNKbvLMQ",
        "outputId": "9cb12ef6-a27d-4ed8-9067-6b2c24006848"
      },
      "outputs": [
        {
          "output_type": "stream",
          "name": "stdout",
          "text": [
            "Sentence:  pair heavy horse dwarf shetland pony croft west town baras\n",
            "Tokens:  [101, 3940, 3082, 3586, 11229, 25552, 15606, 28983, 2225, 2237, 100, 102, 0, 0, 0, 0, 0, 0, 0, 0, 0, 0, 0, 0, 0, 0, 0, 0, 0, 0, 0, 0, 0, 0, 0, 0, 0, 0, 0, 0, 0, 0, 0, 0, 0, 0, 0, 0, 0, 0, 0, 0, 0, 0, 0, 0, 0, 0, 0, 0, 0, 0, 0, 0, 0, 0, 0, 0, 0, 0, 0, 0, 0, 0, 0, 0, 0, 0, 0, 0, 0, 0, 0, 0, 0, 0, 0, 0, 0, 0, 0, 0, 0, 0, 0, 0, 0, 0, 0, 0]\n"
          ]
        }
      ],
      "source": [
        "# splitted into tokens\n",
        "print('Sentence: ', train_text[1000])\n",
        "# mapped\n",
        "print('Tokens: ', train_tokens_bert[1000])"
      ]
    },
    {
      "cell_type": "markdown",
      "source": [
        "# Choosing \"max_length\"\n",
        "\n",
        "Since significant amount of text less then 100 words, we chosed 100 as padding length."
      ],
      "metadata": {
        "id": "_UIJgXnB3b0r"
      }
    },
    {
      "cell_type": "code",
      "execution_count": null,
      "metadata": {
        "colab": {
          "base_uri": "https://localhost:8080/",
          "height": 927
        },
        "id": "D0g4sAhPo2np",
        "outputId": "903a49e0-0ad6-40be-eec5-c2c2744e5a50"
      },
      "outputs": [
        {
          "output_type": "display_data",
          "data": {
            "text/plain": [
              "<Figure size 640x480 with 1 Axes>"
            ],
            "image/png": "[encoded data removed]"
          },
          "metadata": {}
        },
        {
          "output_type": "display_data",
          "data": {
            "text/plain": [
              "<Figure size 640x480 with 1 Axes>"
            ],
            "image/png": "[encoded data removed]"
          },
          "metadata": {}
        }
      ],
      "source": [
        "# Calculate the lengths of tokenized sequences\n",
        "token_lengths_after_padding = [len(tokens) for tokens in train_tokens_bert]\n",
        "token_lengths_before_padding = [len(tokens) for tokens in train_tokens_before_padding]\n",
        "\n",
        "plt.hist(token_lengths_before_padding, bins=50)\n",
        "plt.xlabel('Token Count')\n",
        "plt.ylabel('Frequency')\n",
        "plt.title('Distribution of Token Lengths Before Padding')\n",
        "plt.show()\n",
        "\n",
        "# Plot the distribution of token lengths after padding\n",
        "plt.hist(token_lengths_after_padding, bins=50)\n",
        "plt.xlabel('Token Count')\n",
        "plt.ylabel('Frequency')\n",
        "plt.title('After Padding')\n",
        "plt.show()"
      ]
    },
    {
      "cell_type": "markdown",
      "metadata": {
        "id": "W_MbKlzI3yCu"
      },
      "source": [
        "# PREPEARING THE TOKENS/ TEST-TRAIN INPUTS"
      ]
    },
    {
      "cell_type": "code",
      "execution_count": 10,
      "metadata": {
        "id": "mo8cGLN2sREN"
      },
      "outputs": [],
      "source": [
        "import torch.optim as optim\n",
        "import torch.nn.functional as F\n",
        "\n",
        "input_train = {\n",
        "    'input_ids': torch.tensor([tokens for tokens in train_tokens_bert]),\n",
        "    #'attention_mask': torch.tensor([[1] * len(tokens) for tokens in train_tokens]),\n",
        "    'labels': torch.tensor(train_labels)\n",
        "}"
      ]
    },
    {
      "cell_type": "code",
      "execution_count": 11,
      "metadata": {
        "id": "VMLH4RBVft1i"
      },
      "outputs": [],
      "source": [
        "# Word-level tokenization using whitespace tokenizer\n",
        "test_tokens_word_level = [text.split()[:364] for text in test_text]\n",
        "\n",
        "# BERT tokenization on word-level tokens\n",
        "test_tokens_bert = [tokenizer.encode(text, truncation=True, padding='max_length', max_length=100) for text in test_tokens_word_level]\n",
        "\n",
        "test_inputs = {\n",
        "    'input_ids': torch.tensor([tokens for tokens in test_tokens_bert]),\n",
        "    #'attention_mask': torch.tensor([[1] * len(tokens) for tokens in test_tokens]),\n",
        "    'labels': torch.tensor(test_labels)\n",
        "}"
      ]
    },
    {
      "cell_type": "markdown",
      "source": [
        "# Creating Dataloader"
      ],
      "metadata": {
        "id": "y0Sijr-k5epL"
      }
    },
    {
      "cell_type": "code",
      "execution_count": 12,
      "metadata": {
        "id": "GEpU7M-QtF0x"
      },
      "outputs": [],
      "source": [
        "from torch.utils.data import TensorDataset, RandomSampler, DataLoader, SequentialSampler\n",
        "\n",
        "#Creating the DataLoader which will help us to load data into the GPU/CPU\n",
        "batch_size = 32\n",
        "\n",
        "# Create the DataLoader for our training set.\n",
        "train_data = TensorDataset(input_train['input_ids'], input_train[\"labels\"])\n",
        "train_sampler = RandomSampler(train_data)\n",
        "train_dataloader = DataLoader(train_data, sampler=train_sampler, batch_size=batch_size)\n",
        "\n",
        "# Create the DataLoader for our validation set.\n",
        "validation_data = TensorDataset(test_inputs['input_ids'], test_inputs[\"labels\"])\n",
        "validation_sampler = SequentialSampler(validation_data)\n",
        "validation_dataloader = DataLoader(validation_data, sampler=validation_sampler, batch_size=batch_size)"
      ]
    },
    {
      "cell_type": "markdown",
      "metadata": {
        "id": "lXKk-iJSu69R"
      },
      "source": [
        "#  MODEL PARAMETERS"
      ]
    },
    {
      "cell_type": "markdown",
      "metadata": {
        "id": "fdTAy4VLKrT4"
      },
      "source": [
        "We will use \"BertForSequenceClassification\". We add single layer on top for binary classification."
      ]
    },
    {
      "cell_type": "code",
      "execution_count": 28,
      "metadata": {
        "id": "vYFzfv4CtFvw",
        "colab": {
          "base_uri": "https://localhost:8080/"
        },
        "outputId": "a641b94e-43ec-46e0-9549-5518d1e39708"
      },
      "outputs": [
        {
          "output_type": "stream",
          "name": "stderr",
          "text": [
            "Some weights of BertForSequenceClassification were not initialized from the model checkpoint at bert-base-uncased and are newly initialized: ['classifier.weight', 'classifier.bias']\n",
            "You should probably TRAIN this model on a down-stream task to be able to use it for predictions and inference.\n"
          ]
        }
      ],
      "source": [
        "#Loading the pre-trained BERT model from huggingface library\n",
        "\n",
        "from transformers import BertForSequenceClassification, AdamW, BertConfig\n",
        "\n",
        "model = BertForSequenceClassification.from_pretrained(\n",
        "    \"bert-base-uncased\",\n",
        "    num_labels = 2,\n",
        "    output_attentions = True,\n",
        "    # each input token in relation to other tokens during the model's processing\n",
        "    output_hidden_states = False, )\n",
        "\n",
        "# run gpu, else turn original source\n",
        "device = torch.device(\"cuda\" if torch.cuda.is_available() else \"cpu\")\n",
        "model = model.to(device)"
      ]
    },
    {
      "cell_type": "markdown",
      "source": [
        "\"BertForSequenceClassification\"\n",
        "\n",
        "**Word Embeddings:** This part converts words into numbers. It understands a vocabulary of 30,522 words and represents each word as a 768-number vector.  \n",
        "\n",
        "**Positional Embeddings:** It keeps track of where each word is in a sentence.  \n",
        "\n",
        "**Token Type Embeddings:** Helps understand different parts of text if there are multiple segments.  \n",
        "\n",
        "**Layer Normalization and Dropout:** These are used to make the model more stable and prevent overfitting.  \n",
        "\n",
        "**BertPooler:** It summarizes all the information from the 12 layers into a fixed-size representation.  \n",
        "\n",
        "**Dropout:** Another step to prevent overfitting.  \n",
        "\n",
        "**Classifier:** Finally, it uses this summarized information to decide if a given text falls into one of two categories (binary classification). This is done using a linear layer."
      ],
      "metadata": {
        "id": "tXso6JDtjeaN"
      }
    },
    {
      "cell_type": "code",
      "execution_count": null,
      "metadata": {
        "id": "A3yo8KZkK8r5",
        "colab": {
          "base_uri": "https://localhost:8080/"
        },
        "outputId": "c5b4e3f8-47fd-40d6-8fdd-97916bdca661"
      },
      "outputs": [
        {
          "output_type": "execute_result",
          "data": {
            "text/plain": [
              "BertForSequenceClassification(\n",
              "  (bert): BertModel(\n",
              "    (embeddings): BertEmbeddings(\n",
              "      (word_embeddings): Embedding(30522, 768, padding_idx=0)\n",
              "      (position_embeddings): Embedding(512, 768)\n",
              "      (token_type_embeddings): Embedding(2, 768)\n",
              "      (LayerNorm): LayerNorm((768,), eps=1e-12, elementwise_affine=True)\n",
              "      (dropout): Dropout(p=0.1, inplace=False)\n",
              "    )\n",
              "    (encoder): BertEncoder(\n",
              "      (layer): ModuleList(\n",
              "        (0-11): 12 x BertLayer(\n",
              "          (attention): BertAttention(\n",
              "            (self): BertSelfAttention(\n",
              "              (query): Linear(in_features=768, out_features=768, bias=True)\n",
              "              (key): Linear(in_features=768, out_features=768, bias=True)\n",
              "              (value): Linear(in_features=768, out_features=768, bias=True)\n",
              "              (dropout): Dropout(p=0.1, inplace=False)\n",
              "            )\n",
              "            (output): BertSelfOutput(\n",
              "              (dense): Linear(in_features=768, out_features=768, bias=True)\n",
              "              (LayerNorm): LayerNorm((768,), eps=1e-12, elementwise_affine=True)\n",
              "              (dropout): Dropout(p=0.1, inplace=False)\n",
              "            )\n",
              "          )\n",
              "          (intermediate): BertIntermediate(\n",
              "            (dense): Linear(in_features=768, out_features=3072, bias=True)\n",
              "            (intermediate_act_fn): GELUActivation()\n",
              "          )\n",
              "          (output): BertOutput(\n",
              "            (dense): Linear(in_features=3072, out_features=768, bias=True)\n",
              "            (LayerNorm): LayerNorm((768,), eps=1e-12, elementwise_affine=True)\n",
              "            (dropout): Dropout(p=0.1, inplace=False)\n",
              "          )\n",
              "        )\n",
              "      )\n",
              "    )\n",
              "    (pooler): BertPooler(\n",
              "      (dense): Linear(in_features=768, out_features=768, bias=True)\n",
              "      (activation): Tanh()\n",
              "    )\n",
              "  )\n",
              "  (dropout): Dropout(p=0.1, inplace=False)\n",
              "  (classifier): Linear(in_features=768, out_features=2, bias=True)\n",
              ")"
            ]
          },
          "metadata": {},
          "execution_count": 19
        }
      ],
      "source": [
        "model"
      ]
    },
    {
      "cell_type": "code",
      "execution_count": 14,
      "metadata": {
        "id": "YH-ee91atFrC",
        "colab": {
          "base_uri": "https://localhost:8080/"
        },
        "outputId": "c6e85238-2646-46ea-a4d4-1fbd70622f97"
      },
      "outputs": [
        {
          "output_type": "stream",
          "name": "stderr",
          "text": [
            "/usr/local/lib/python3.10/dist-packages/transformers/optimization.py:411: FutureWarning: This implementation of AdamW is deprecated and will be removed in a future version. Use the PyTorch implementation torch.optim.AdamW instead, or set `no_deprecation_warning=True` to disable this warning\n",
            "  warnings.warn(\n"
          ]
        }
      ],
      "source": [
        "adamw_optimizer = AdamW(model.parameters(),\n",
        "                  lr = 2e-5,\n",
        "                  eps = 1e-8\n",
        "                )"
      ]
    },
    {
      "cell_type": "markdown",
      "metadata": {
        "id": "ERzPlu_hvmpe"
      },
      "source": [
        "# LEARNING RATE SCHEDULER"
      ]
    },
    {
      "cell_type": "code",
      "execution_count": 15,
      "metadata": {
        "id": "6EJi526hvWw9"
      },
      "outputs": [],
      "source": [
        "from transformers import get_linear_schedule_with_warmup\n",
        "\n",
        "# Number of training epochs (authors recommend between 2 and 4)\n",
        "epochs = 5\n",
        "\n",
        "# num training steps = num batches * num epochs.\n",
        "step_num = len(train_dataloader) * epochs\n",
        "\n",
        "# Create the learning rate scheduler. Dnum_warmup_steps used as default\n",
        "learning_rate_scheduler = get_linear_schedule_with_warmup(adamw_optimizer,\n",
        "                                            num_warmup_steps = 0,\n",
        "                                            num_training_steps = step_num)"
      ]
    },
    {
      "cell_type": "markdown",
      "metadata": {
        "id": "cA6hjDF8wev4"
      },
      "source": [
        "# ACCURACY FUNTION AND TIMING"
      ]
    },
    {
      "cell_type": "code",
      "execution_count": 17,
      "metadata": {
        "id": "SvV3A2myvtl_"
      },
      "outputs": [],
      "source": [
        "import numpy as np\n",
        "import time\n",
        "import datetime\n",
        "\n",
        "# calculating the accuracy of our predictions vs labels\n",
        "def accuracy_print(predictions, label):\n",
        "    pred_last = np.argmax(predictions, axis=1).flatten()\n",
        "    labels_last = label.flatten()\n",
        "    return np.sum(pred_last == labels_last) / len(labels_last)\n",
        "\n",
        "#Creating the helper function to have a watch on elapsed time\n",
        "def format_time(elapsed):\n",
        "    elapsed_rounded = int(round((elapsed)))\n",
        "    return str(datetime.timedelta(seconds=elapsed_rounded))"
      ]
    },
    {
      "cell_type": "code",
      "source": [
        "import random\n",
        "import numpy as np\n",
        "import torch\n",
        "import time\n",
        "\n",
        "# Set a random seed for reproducibility.\n",
        "seed_value = 42\n",
        "\n",
        "# Set random seeds for libraries\n",
        "random.seed(seed_value)\n",
        "np.random.seed(seed_value)\n",
        "torch.manual_seed(seed_value)\n",
        "torch.cuda.manual_seed_all(seed_value)\n",
        "\n",
        "# Store the average loss after each epoch.\n",
        "loss_values = []\n",
        "# Define the number of training epochs.\n",
        "epochs = 4  # Change this to your desired number of epochs\n",
        "\n",
        "# For each epoch...\n",
        "for epoch in range(epochs):\n",
        "    print(f\"Epoch {epoch + 1}/{epochs}\")\n",
        "    print(\"Training in progress...\")\n",
        "\n",
        "    # Measure how long the training epoch takes.\n",
        "    start_time = time.time()\n",
        "    total_loss = 0\n",
        "    model.train()\n",
        "\n",
        "    for step, batch in enumerate(train_dataloader):\n",
        "        if step % 40 == 0 and step != 0:\n",
        "            elapsed_time = format_time(time.time() - start_time)\n",
        "\n",
        "        input_ids = batch[0].to(device)\n",
        "        labels = batch[1].to(device)\n",
        "\n",
        "        model.zero_grad()\n",
        "        outputs = model(input_ids, token_type_ids=None, labels=labels)\n",
        "        loss = outputs.loss\n",
        "        total_loss += loss.item()\n",
        "        loss.backward()\n",
        "\n",
        "        torch.nn.utils.clip_grad_norm_(model.parameters(), 1.0)\n",
        "        adamw_optimizer.step()\n",
        "        learning_rate_scheduler.step()\n",
        "\n",
        "    avg_train_loss = total_loss / len(train_dataloader)\n",
        "    loss_values.append(avg_train_loss)\n",
        "\n",
        "    print(f\"training loss: {avg_train_loss:.2f}\")\n",
        "    print(f\"epoch time: {format_time(time.time() - start_time)}\")\n",
        "    print(\"\\nRunning Validation...\")\n",
        "\n",
        "    start_time = time.time()\n",
        "\n",
        "    model.eval()\n",
        "\n",
        "    loss_evaliation, accuracy_evaliation = 0, 0\n",
        "    steps_evaliation = 0\n",
        "\n",
        "    for batch in validation_dataloader:\n",
        "        input_ids = batch[0].to(device)\n",
        "        labels = batch[1].to(device)\n",
        "\n",
        "        with torch.no_grad():\n",
        "            outputs = model(input_ids, token_type_ids=None)\n",
        "\n",
        "        logits = outputs.logits\n",
        "        logits = logits.detach().cpu().numpy()\n",
        "        label_ids = labels.to('cpu').numpy()\n",
        "\n",
        "        accuracy_tmpevaliation = accuracy_print(logits, label_ids)\n",
        "\n",
        "        accuracy_evaliation += accuracy_tmpevaliation\n",
        "        steps_evaliation += 1\n",
        "\n",
        "    print(f\"Validation accuracy: {accuracy_evaliation / steps_evaliation:.2f}\")\n",
        "    print(f\"Validation duration: {format_time(time.time() - start_time)}\")\n",
        "\n",
        "print(\"\\nTraining is complete!\")"
      ],
      "metadata": {
        "colab": {
          "base_uri": "https://localhost:8080/"
        },
        "id": "0Q8dTk2uf4pg",
        "outputId": "8add0792-8d21-4b41-fa24-64137f1c47ca"
      },
      "execution_count": null,
      "outputs": [
        {
          "output_type": "stream",
          "name": "stderr",
          "text": [
            "We strongly recommend passing in an `attention_mask` since your input_ids may be padded. See https://huggingface.co/docs/transformers/troubleshooting#incorrect-output-when-padding-tokens-arent-masked.\n"
          ]
        },
        {
          "output_type": "stream",
          "name": "stdout",
          "text": [
            "Epoch 1/4\n",
            "Training in progress...\n",
            "training loss: 0.57\n",
            "epoch time: 0:01:02\n",
            "\n",
            "Running Validation...\n",
            "Validation accuracy: 0.80\n",
            "Validation duration: 0:00:02\n",
            "Epoch 2/4\n",
            "Training in progress...\n",
            "training loss: 0.41\n",
            "epoch time: 0:00:45\n",
            "\n",
            "Running Validation...\n",
            "Validation accuracy: 0.80\n",
            "Validation duration: 0:00:02\n",
            "Epoch 3/4\n",
            "Training in progress...\n",
            "training loss: 0.36\n",
            "epoch time: 0:00:44\n",
            "\n",
            "Running Validation...\n",
            "Validation accuracy: 0.80\n",
            "Validation duration: 0:00:02\n",
            "Epoch 4/4\n",
            "Training in progress...\n",
            "training loss: 0.30\n",
            "epoch time: 0:00:44\n",
            "\n",
            "Running Validation...\n",
            "Validation accuracy: 0.81\n",
            "Validation duration: 0:00:02\n",
            "\n",
            "Training is complete!\n"
          ]
        }
      ]
    },
    {
      "cell_type": "code",
      "execution_count": null,
      "metadata": {
        "colab": {
          "base_uri": "https://localhost:8080/"
        },
        "id": "vNOvII_Fvtb6",
        "outputId": "2fd4dd61-443d-4cc0-bd75-b9c74a1c4195"
      },
      "outputs": [
        {
          "output_type": "stream",
          "name": "stdout",
          "text": [
            "[0.5513981499671936, 0.41804606044292447, 0.35375541895627977, 0.2907858310639858]\n"
          ]
        }
      ],
      "source": [
        "print(loss_values)"
      ]
    },
    {
      "cell_type": "markdown",
      "metadata": {
        "id": "DXighRoT7R1N"
      },
      "source": [
        "# Save The Model"
      ]
    },
    {
      "cell_type": "code",
      "execution_count": null,
      "metadata": {
        "id": "Od4KyLgB7D56"
      },
      "outputs": [],
      "source": [
        "\"\"\"\n",
        "from google.colab import drive\n",
        "drive.mount('/content/drive')\n",
        "# Define the path for saving the model\n",
        "model_path = '/content/drive/MyDrive/deneme/bert_delete'\n",
        "\n",
        "# Save the model\n",
        "model.save_pretrained(model_path)\n",
        "\"\"\""
      ]
    },
    {
      "cell_type": "markdown",
      "metadata": {
        "id": "omYNSIDbPtgu"
      },
      "source": [
        "# load The model"
      ]
    },
    {
      "cell_type": "code",
      "source": [
        "# Define the URL where your model weights (state_dict) are hosted\n",
        "WEIGHTS_URL = 'https://fypphotos.s3.amazonaws.com/pytorch_model.bin'\n",
        "\n",
        "# Define a local file path to save the downloaded weights\n",
        "LOCAL_WEIGHTS_PATH = 'pytorch_model.bin'\n",
        "\n",
        "# Download the model weights from the URL\n",
        "torch.hub.download_url_to_file(WEIGHTS_URL, LOCAL_WEIGHTS_PATH)\n",
        "\n",
        "# Load the saved weights into the model\n",
        "model.load_state_dict(torch.load(LOCAL_WEIGHTS_PATH, map_location='cpu'))"
      ],
      "metadata": {
        "colab": {
          "base_uri": "https://localhost:8080/"
        },
        "id": "f9wRo375tdmT",
        "outputId": "c1f4eb32-5106-4562-8f1c-138fa87ad7f8"
      },
      "execution_count": 29,
      "outputs": [
        {
          "output_type": "stream",
          "name": "stderr",
          "text": [
            "100%|██████████| 418M/418M [00:07<00:00, 59.3MB/s]\n"
          ]
        },
        {
          "output_type": "execute_result",
          "data": {
            "text/plain": [
              "<All keys matched successfully>"
            ]
          },
          "metadata": {},
          "execution_count": 29
        }
      ]
    },
    {
      "cell_type": "code",
      "source": [
        "model"
      ],
      "metadata": {
        "id": "GIVuOVjJr97m"
      },
      "execution_count": null,
      "outputs": []
    },
    {
      "cell_type": "code",
      "source": [
        "# Google Cloud saved model\n",
        "'''\n",
        "!pip install gdown\n",
        "import gdown\n",
        "\n",
        "model_url=\"https://drive.google.com/uc?id=1-8o8MZTEdvEHgX62vc512S6uKRDesLX6\"\n",
        "output = 'pytorch_model.bin'\n",
        "gdown.download(model_url, output, quiet=False)\n",
        "state_dict = torch.load(output)\n",
        "model.load_state_dict(state_dict)"
      ],
      "metadata": {
        "id": "DjE7mlnOVNGs"
      },
      "execution_count": 18,
      "outputs": []
    },
    {
      "cell_type": "code",
      "execution_count": null,
      "metadata": {
        "id": "-SdeLbk5PkvJ"
      },
      "outputs": [],
      "source": [
        "\"\"\"\n",
        "# Load the saved model\n",
        "model_path = '/content/drive/MyDrive/deneme/bert_final'\n",
        "model = BertForSequenceClassification.from_pretrained(model_path)\n",
        "\"\"\""
      ]
    },
    {
      "cell_type": "markdown",
      "metadata": {
        "id": "k3v93p9qPD8G"
      },
      "source": [
        "# Prediciton"
      ]
    },
    {
      "cell_type": "markdown",
      "source": [
        "for training process training_text and test_text used with trainining and validation names. For validation process we will use validation_text with validation name."
      ],
      "metadata": {
        "id": "eEZvnhttEmSE"
      }
    },
    {
      "cell_type": "code",
      "execution_count": 26,
      "metadata": {
        "id": "go_u0wt9vSzh"
      },
      "outputs": [],
      "source": [
        "from sklearn.metrics import accuracy_score, confusion_matrix\n",
        "import time\n",
        "import numpy as np\n",
        "from sklearn.metrics import f1_score\n",
        "from sklearn.metrics import classification_report\n",
        "import gdown"
      ]
    },
    {
      "cell_type": "code",
      "source": [
        "device = torch.device(\"cuda\" if torch.cuda.is_available() else \"cpu\")\n",
        "model = model.to(device)"
      ],
      "metadata": {
        "id": "W1uvhso7I98o"
      },
      "execution_count": 31,
      "outputs": []
    },
    {
      "cell_type": "code",
      "execution_count": 48,
      "metadata": {
        "id": "9cP4O7HMPGdM"
      },
      "outputs": [],
      "source": [
        "# Word-level tokenization using whitespace tokenizer\n",
        "validation_tokens_word_level = [text.split()[:364] for text in val_text]\n",
        "\n",
        "# BERT tokenization on word-level tokens\n",
        "validation_tokens_bert = [tokenizer.encode(text, truncation=True, padding='max_length', max_length=100) for text in validation_tokens_word_level]\n",
        "\n",
        "validation_inputs = {\n",
        "    'input_ids': torch.tensor([tokens for tokens in validation_tokens_bert]).to(device),\n",
        "    #'attention_mask': torch.tensor([[1] * len(tokens) for tokens in test_tokens]),\n",
        "    'labels': torch.tensor(val_label).to(device)\n",
        "    #'labels': torch.tensor(test_labels.values)  # Convert test_labels to a numpy array using the 'values' attribute\n",
        "}"
      ]
    },
    {
      "cell_type": "code",
      "execution_count": 24,
      "metadata": {
        "colab": {
          "base_uri": "https://localhost:8080/"
        },
        "id": "kjtArIgQ9H44",
        "outputId": "9d2a6cf0-91b9-41b1-bd3e-fd42c43d7273"
      },
      "outputs": [
        {
          "output_type": "execute_result",
          "data": {
            "text/plain": [
              "1000"
            ]
          },
          "metadata": {},
          "execution_count": 24
        }
      ],
      "source": [
        "len(validation_inputs['input_ids'])"
      ]
    },
    {
      "cell_type": "code",
      "source": [
        "batch_size = 16\n",
        "outputs = []\n",
        "\n",
        "# Set the model to evaluation mode\n",
        "model.eval()\n",
        "\n",
        "# Move the model to the same device as the input tensors (if not already on the same device)\n",
        "model.to(device)\n",
        "\n",
        "# Get the number of batches\n",
        "num_batches = len(validation_inputs['input_ids']) // batch_size\n",
        "\n",
        "# Start the timer\n",
        "start_time = time.time()\n",
        "\n",
        "for i in range(0, len(validation_inputs['input_ids']), batch_size):\n",
        "    batch_inputs = {\n",
        "        'input_ids': validation_inputs['input_ids'][i:i+batch_size].to(device)\n",
        "    }\n",
        "\n",
        "    with torch.no_grad():\n",
        "        batch_output = model(**batch_inputs)\n",
        "        outputs.extend(batch_output.logits.cpu().numpy())\n",
        "\n",
        "    # Calculate elapsed time for this batch\n",
        "    elapsed_time = time.time() - start_time\n",
        "\n",
        "    # Calculate estimated total time\n",
        "    estimated_total_time = elapsed_time / (i + 1) * num_batches\n",
        "\n",
        "    # Print the estimated time for completion after each batch\n",
        "    print(f\"Batch {i//batch_size + 1}/{num_batches}, Estimated Total Time: {estimated_total_time:.2f} seconds\")\n",
        "\n",
        "# End of inference\n",
        "print(\"Inference completed!\")\n"
      ],
      "metadata": {
        "id": "MItNNvhZLxRb"
      },
      "execution_count": null,
      "outputs": []
    },
    {
      "cell_type": "markdown",
      "source": [
        "#CONFUSION MATRIX AND ACCURACY SCORE"
      ],
      "metadata": {
        "id": "2embshrq5ytR"
      }
    },
    {
      "cell_type": "code",
      "source": [
        "predicted_labels = np.argmax(outputs, axis=1)\n",
        "# Convert logits to class labels\n",
        "true_labels = val_label\n",
        "# test_labels is a numpy array or list of true labels\n",
        "\n",
        "# Calculate the confusion matrix\n",
        "cm = confusion_matrix(true_labels, predicted_labels)\n",
        "\n",
        "# Calculate accuracy\n",
        "accuracy = accuracy_score(true_labels, predicted_labels)"
      ],
      "metadata": {
        "id": "VFC0WbFC4XDJ"
      },
      "execution_count": 49,
      "outputs": []
    },
    {
      "cell_type": "code",
      "source": [
        "def plot_confusion_matrix(cm, classes, title='Confusion Matrix BERT', cmap=plt.cm.Blues):\n",
        "    plt.imshow(cm, interpolation='nearest', cmap=cmap)\n",
        "    plt.title(title)\n",
        "    plt.colorbar()\n",
        "    tick_marks = np.arange(len(classes))\n",
        "    plt.xticks(tick_marks, classes, rotation=45)\n",
        "    plt.yticks(tick_marks, classes)\n",
        "\n",
        "    # Add text annotations for TP, TN, FP, FN counts\n",
        "    thresh = cm.max() / 2.\n",
        "    for i in range(len(classes)):\n",
        "        for j in range(len(classes)):\n",
        "            plt.text(j, i, f'{cm[i, j]}\\n', ha=\"center\", va=\"center\", color=\"white\" if cm[i, j] > thresh else \"black\")\n",
        "\n",
        "    plt.xlabel('Predicted Label')\n",
        "    plt.ylabel('True Label')\n",
        "    plt.tight_layout()\n",
        "\n",
        "# we have a list of class names 'class_names'\n",
        "class_names = ['Class 0', 'Class 1']\n",
        "plot_confusion_matrix(cm, class_names)\n",
        "plt.show()\n",
        "\n",
        "print(f\"Accuracy: {accuracy:.2f}\")"
      ],
      "metadata": {
        "colab": {
          "base_uri": "https://localhost:8080/",
          "height": 504
        },
        "id": "BjLoQHqZ5OwG",
        "outputId": "e7c0ff28-ca7d-4be7-bb9a-1081bf82f649"
      },
      "execution_count": 50,
      "outputs": [
        {
          "output_type": "display_data",
          "data": {
            "text/plain": [
              "<Figure size 640x480 with 2 Axes>"
            ],
            "image/png": "[encoded data removed]"
          },
          "metadata": {}
        },
        {
          "output_type": "stream",
          "name": "stdout",
          "text": [
            "Accuracy: 0.82\n"
          ]
        }
      ]
    },
    {
      "cell_type": "code",
      "source": [
        "# Plotting the loss\n",
        "epochs = range(1, epochs+1)\n",
        "\n",
        "plt.plot(epochs, loss_values, marker='o')\n",
        "plt.xlabel('Epochs')\n",
        "plt.ylabel('Loss')\n",
        "plt.title('Training Loss BERT')\n",
        "plt.show()"
      ],
      "metadata": {
        "colab": {
          "base_uri": "https://localhost:8080/",
          "height": 472
        },
        "id": "9C8N4jogI2MI",
        "outputId": "9c64c2dc-115f-4f1e-b7ad-2734c7a4ae55"
      },
      "execution_count": null,
      "outputs": [
        {
          "output_type": "display_data",
          "data": {
            "text/plain": [
              "<Figure size 640x480 with 1 Axes>"
            ],
            "image/png": "[encoded data removed]"
          },
          "metadata": {}
        }
      ]
    },
    {
      "cell_type": "code",
      "execution_count": 37,
      "metadata": {
        "colab": {
          "base_uri": "https://localhost:8080/"
        },
        "id": "Ooo9t3igPmGE",
        "outputId": "6cd609ac-5bfd-4777-dd0b-a04ba1cb3a12"
      },
      "outputs": [
        {
          "output_type": "execute_result",
          "data": {
            "text/plain": [
              "array([0.81359423, 0.82410107])"
            ]
          },
          "metadata": {},
          "execution_count": 37
        }
      ],
      "source": [
        "f1_score(true_labels, predicted_labels, average='macro')\n",
        "f1_score(true_labels, predicted_labels, average='micro')\n",
        "f1_score(true_labels, predicted_labels, average='weighted')\n",
        "f1_score(true_labels, predicted_labels, average=None)"
      ]
    },
    {
      "cell_type": "code",
      "source": [
        "print(classification_report(true_labels, predicted_labels))"
      ],
      "metadata": {
        "colab": {
          "base_uri": "https://localhost:8080/"
        },
        "id": "3WdN9WPLPpAg",
        "outputId": "361bad2a-c711-4b53-df77-0c311dd2543d"
      },
      "execution_count": 38,
      "outputs": [
        {
          "output_type": "stream",
          "name": "stdout",
          "text": [
            "              precision    recall  f1-score   support\n",
            "\n",
            "           0       0.84      0.79      0.81       498\n",
            "           1       0.80      0.84      0.82       502\n",
            "\n",
            "    accuracy                           0.82      1000\n",
            "   macro avg       0.82      0.82      0.82      1000\n",
            "weighted avg       0.82      0.82      0.82      1000\n",
            "\n"
          ]
        }
      ]
    },
    {
      "cell_type": "markdown",
      "source": [
        "**Class 0** has a higher precision, indicating that the model is cautious when predicting Class 0, and it tends to make fewer false positive errors for Class 0.  \n",
        "\n",
        "**Class 1** has a higher recall, indicating that the model is better at capturing most of the actual positive instances (Class 1) in the dataset, but it may have a slightly higher false positive rate for Class 1.  "
      ],
      "metadata": {
        "id": "UZQmZe44lTWB"
      }
    },
    {
      "cell_type": "markdown",
      "source": [
        "***F1 SCORES***\n",
        "\n",
        "For Class 0 (negative class), the F1-score is 0.81.  \n",
        "For Class 1 (positive class), the F1-score is 0.82.  \n",
        "\n",
        "These F1 scores indicate the following:\n",
        "\n",
        "This suggests that the model is performing slightly better in terms of a balance between precision and recall for Class 1. In other words, when it comes to the positive class (Class 1), the model is slightly more effective at both making accurate positive predictions (precision) and capturing actual positive instances (recall).\n",
        "\n",
        "**Balanced Performance:** The F1 scores for both classes are relatively close to each other (0.81 for Class 0 and 0.82 for Class 1). This suggests that the model is achieving a balanced performance in terms of precision and recall for both the negative (Class 0) and positive (Class 1) classes.  \n",
        "\n",
        "**Overall Model Effectiveness:** An F1-score in the range of 0.8 is often considered a good performance in binary classification tasks. It indicates that the model is effective at both making accurate positive predictions (precision) and capturing actual positive instances (recall) for both classes.  \n",
        "\n",
        "**Similar Performance:** The fact that the F1-scores for both classes are close indicates that the model does not favor one class significantly over the other. It's achieving a reasonably good balance between avoiding false positives and capturing true positives for both classes.  \n",
        "\n",
        "In summary, the F1 scores you provided suggest that the model is performing well in terms of precision and recall for both classes, and it's achieving a balanced performance in the binary classification task. This is a positive indicator of the model's effectiveness in making accurate predictions for both positive and negative instances."
      ],
      "metadata": {
        "id": "WLrjBhoBpJ2M"
      }
    },
    {
      "cell_type": "markdown",
      "source": [
        "# QUALITATIVE ANALYSIS"
      ],
      "metadata": {
        "id": "uBXYrpi1W7VQ"
      }
    },
    {
      "cell_type": "code",
      "source": [
        "!pip install gdown"
      ],
      "metadata": {
        "id": "yqp8auJDW-F4"
      },
      "execution_count": 39,
      "outputs": []
    },
    {
      "cell_type": "code",
      "source": [
        "url = 'https://drive.google.com/uc?id=1-39gatpZL3__lLx3CY90jJFqLxPQ3w8q'\n",
        "output = 'selected_cases.csv'\n",
        "gdown.download(url, output, quiet=False)"
      ],
      "metadata": {
        "id": "dWM9kHxCW-hc"
      },
      "execution_count": null,
      "outputs": []
    },
    {
      "cell_type": "code",
      "source": [
        "dataset_qualitative= pd.read_csv(\"selected_cases.csv\")\n",
        "input_qualitative=dataset_qualitative['clean_comments'].values\n",
        "label_qualitative=dataset_qualitative[\"scenic\"].values"
      ],
      "metadata": {
        "id": "4SB0R2tcW-b4"
      },
      "execution_count": 41,
      "outputs": []
    },
    {
      "cell_type": "code",
      "source": [
        "# Word-level tokenization using whitespace tokenizer\n",
        "qual_tokens_word_level = [text.split()[:364] for text in input_qualitative]\n",
        "\n",
        "# BERT tokenization on word-level tokens\n",
        "qual_tokens_bert = [tokenizer.encode(text, truncation=True, padding='max_length', max_length=100) for text in qual_tokens_word_level]"
      ],
      "metadata": {
        "id": "LNN29smqW-TP"
      },
      "execution_count": 42,
      "outputs": []
    },
    {
      "cell_type": "code",
      "source": [
        "# Print the sentence split into tokens.\n",
        "print('Sentence: ', input_qualitative)\n",
        "# Print the sentence mapped to token ids.\n",
        "print('Tokens: ', qual_tokens_bert[0])"
      ],
      "metadata": {
        "colab": {
          "base_uri": "https://localhost:8080/"
        },
        "id": "VfdjdcI5XGMK",
        "outputId": "3ad7f382-b264-4539-c85e-56889ebed695"
      },
      "execution_count": 43,
      "outputs": [
        {
          "output_type": "stream",
          "name": "stdout",
          "text": [
            "Sentence:  ['gully waist deep heather feed black burn scottish side knox knowe distinctly evil foot english side tough enough isolated outcrop boulder fell sandstone add fun'\n",
            " 'west dart head isolated place within grassy wilderness inner dartmor probably often visited tranquil seems far away rest devon sunny day ideal place spend time rain mist would atmosphere'\n",
            " 'could road like yorkshire valley clogged buildings whereas blackwater valley wa relatively clear road ha built cutting embankment fence side lake wood valley still enjoyed photo wa taken looking northward footbridge accessed shawfield lane'\n",
            " 'located next m62 huge ikea store gemini retail park \\\\nthe warington store cover area 270 sq mts wa first ikea open united kingdom 1987 \\\\ntoday 15 store dotted around united kingdom']\n",
            "Tokens:  [101, 100, 5808, 2784, 9533, 5438, 2304, 6402, 4104, 2217, 11994, 100, 19517, 4763, 3329, 2394, 2217, 7823, 2438, 7275, 100, 13264, 3062, 11694, 5587, 4569, 102, 0, 0, 0, 0, 0, 0, 0, 0, 0, 0, 0, 0, 0, 0, 0, 0, 0, 0, 0, 0, 0, 0, 0, 0, 0, 0, 0, 0, 0, 0, 0, 0, 0, 0, 0, 0, 0, 0, 0, 0, 0, 0, 0, 0, 0, 0, 0, 0, 0, 0, 0, 0, 0, 0, 0, 0, 0, 0, 0, 0, 0, 0, 0, 0, 0, 0, 0, 0, 0, 0, 0, 0, 0]\n"
          ]
        }
      ]
    },
    {
      "cell_type": "code",
      "source": [
        "qual_inputs = {\n",
        "    'input_ids': torch.tensor([tokens for tokens in qual_tokens_bert]),\n",
        "    #'labels': torch.tensor(label_qualitative)\n",
        "}"
      ],
      "metadata": {
        "id": "KL7F3JlaXHw8"
      },
      "execution_count": 44,
      "outputs": []
    },
    {
      "cell_type": "code",
      "source": [
        "qual_outputs=[]\n",
        "qual_output = model(**qual_inputs)\n",
        "qual_outputs.extend(qual_output.logits.detach().numpy())"
      ],
      "metadata": {
        "id": "jqCnHcyPXJTH"
      },
      "execution_count": 45,
      "outputs": []
    },
    {
      "cell_type": "code",
      "source": [
        "predicted_labels = np.argmax(qual_outputs, axis=1)  # Convert logits to class labels\n",
        "true_labels = label_qualitative  # test_labels is a numpy array or list of true labels\n",
        "\n",
        "# Calculate the confusion matrix\n",
        "cm_qual = confusion_matrix(true_labels, predicted_labels)\n",
        "\n",
        "# Calculate accuracy\n",
        "accuracy = accuracy_score(true_labels, predicted_labels)"
      ],
      "metadata": {
        "id": "X8kH1MTLXMkB"
      },
      "execution_count": 46,
      "outputs": []
    },
    {
      "cell_type": "code",
      "source": [
        "# we have a list of class names 'class_names'\n",
        "class_names = ['Class 0', 'Class 1']\n",
        "plot_confusion_matrix(cm_qual, class_names)\n",
        "plt.show()\n",
        "\n",
        "print(f\"Accuracy: {accuracy:.2f}\")"
      ],
      "metadata": {
        "colab": {
          "base_uri": "https://localhost:8080/",
          "height": 504
        },
        "id": "mJHe2kfwXOPz",
        "outputId": "be8376c9-e12d-48af-db33-1aa99b6d6f0c"
      },
      "execution_count": 47,
      "outputs": [
        {
          "output_type": "display_data",
          "data": {
            "text/plain": [
              "<Figure size 640x480 with 2 Axes>"
            ],
            "image/png": "[encoded data removed]"
          },
          "metadata": {}
        },
        {
          "output_type": "stream",
          "name": "stdout",
          "text": [
            "Accuracy: 0.75\n"
          ]
        }
      ]
    },
    {
      "cell_type": "code",
      "source": [
        "# Initialize the decoded comments list\n",
        "decoded_comments = []\n",
        "for tokens in qual_tokens_bert:\n",
        "    decoded_text = tokenizer.decode(tokens, skip_special_tokens=True)\n",
        "    decoded_comments.append(decoded_text)\n",
        "\n",
        "# Print comments with labels\n",
        "for i in range(len(true_labels)):\n",
        "    comment_text = decoded_comments[i]  # Using the decoded comments\n",
        "    true_label = true_labels[i]\n",
        "    predicted_label = predicted_labels[i]\n",
        "\n",
        "    label_status = \"CORRECT\" if true_label == predicted_label else \"INCORRECT\"\n",
        "\n",
        "    print(f\"Comment {i + 1} (Label Status: {label_status}):\")\n",
        "    #print(f\"   Comment Text: {comment_text}\")\n",
        "    print(f\"   True Label: {true_label}\")\n",
        "    print(f\"   Predicted Label: {predicted_label}\")\n",
        "    if true_label!=predicted_label:\n",
        "      print(f\"   Comment Text: {comment_text}\")\n",
        "    print()"
      ],
      "metadata": {
        "colab": {
          "base_uri": "https://localhost:8080/"
        },
        "id": "7jXMD7uQXPjP",
        "outputId": "b0ce3c98-2f9e-4c4a-8e43-7fd858d54f73"
      },
      "execution_count": 43,
      "outputs": [
        {
          "output_type": "stream",
          "name": "stdout",
          "text": [
            "Comment 1 (Label Status: CORRECT):\n",
            "   True Label: 1\n",
            "   Predicted Label: 1\n",
            "\n",
            "Comment 2 (Label Status: CORRECT):\n",
            "   True Label: 1\n",
            "   Predicted Label: 1\n",
            "\n",
            "Comment 3 (Label Status: INCORRECT):\n",
            "   True Label: 0\n",
            "   Predicted Label: 1\n",
            "   Comment Text: could road like yorkshire valley buildings whereas valley wa relatively clear road ha built cutting embankment fence side lake wood valley still enjoyed photo wa taken looking northward accessed lane\n",
            "\n",
            "Comment 4 (Label Status: CORRECT):\n",
            "   True Label: 0\n",
            "   Predicted Label: 0\n",
            "\n"
          ]
        }
      ]
    },
    {
      "cell_type": "markdown",
      "source": [
        "The model incorrectly predicted \"Low Scenic (Average: 2.25)\" data point as Class 1 (Positive) when the true label is Class 0 (Negative). The comment text contains phrases like \"road like Yorkshire valley\" and \"buildings,\" which might have led the model to misinterpret it as positive. This suggests that the model may need to improve its understanding of context or specific phrases."
      ],
      "metadata": {
        "id": "Ob3GrNpftJXs"
      }
    },
    {
      "cell_type": "markdown",
      "source": [
        "The model made correct predictions for three out of the four sample data points (Data Points 1, 2, and 4).\n",
        "It incorrectly classified Data Point 3, misclassifying it as positive when it was actually negative.  \n",
        "\n",
        "The model appears to perform reasonably well, with correct predictions for the majority of the sample data points.\n",
        "It's important to note that qualitative analysis helps identify areas where the model may be making errors and provides insights into specific instances where it succeeded or failed in making predictions. In this case, the misclassification of Data Point 3 is an area to investigate further to understand why the model made an incorrect prediction and whether any improvements or adjustments to the model are necessary for better performance on similar cases."
      ],
      "metadata": {
        "id": "SbI9S3DqsQib"
      }
    }
  ],
  "metadata": {
    "colab": {
      "provenance": [],
      "toc_visible": true
    },
    "kernelspec": {
      "display_name": "Python 3",
      "name": "python3"
    },
    "language_info": {
      "name": "python"
    },
    "widgets": {
      "application/vnd.jupyter.widget-state+json": {
        "e107c92b1fb74d9d995f796eef967eb3": {
          "model_module": "@jupyter-widgets/controls",
          "model_name": "HBoxModel",
          "model_module_version": "1.5.0",
          "state": {
            "_dom_classes": [],
            "_model_module": "@jupyter-widgets/controls",
            "_model_module_version": "1.5.0",
            "_model_name": "HBoxModel",
            "_view_count": null,
            "_view_module": "@jupyter-widgets/controls",
            "_view_module_version": "1.5.0",
            "_view_name": "HBoxView",
            "box_style": "",
            "children": [
              "IPY_MODEL_d8a969b7f9644b66a5a00f36ec080430",
              "IPY_MODEL_5ed76756a3b9440da84c6033da8c5bbb",
              "IPY_MODEL_5094215f714e41e5b7b0b853a9ecedca"
            ],
            "layout": "IPY_MODEL_19b43db55776416d8bf323de2d5a9beb"
          }
        },
        "d8a969b7f9644b66a5a00f36ec080430": {
          "model_module": "@jupyter-widgets/controls",
          "model_name": "HTMLModel",
          "model_module_version": "1.5.0",
          "state": {
            "_dom_classes": [],
            "_model_module": "@jupyter-widgets/controls",
            "_model_module_version": "1.5.0",
            "_model_name": "HTMLModel",
            "_view_count": null,
            "_view_module": "@jupyter-widgets/controls",
            "_view_module_version": "1.5.0",
            "_view_name": "HTMLView",
            "description": "",
            "description_tooltip": null,
            "layout": "IPY_MODEL_50e950d8e6484f408d3c53e8bebdca7b",
            "placeholder": "​",
            "style": "IPY_MODEL_b1aa791e7f12488a9197b890ac33d428",
            "value": "Downloading (…)solve/main/vocab.txt: 100%"
          }
        },
        "5ed76756a3b9440da84c6033da8c5bbb": {
          "model_module": "@jupyter-widgets/controls",
          "model_name": "FloatProgressModel",
          "model_module_version": "1.5.0",
          "state": {
            "_dom_classes": [],
            "_model_module": "@jupyter-widgets/controls",
            "_model_module_version": "1.5.0",
            "_model_name": "FloatProgressModel",
            "_view_count": null,
            "_view_module": "@jupyter-widgets/controls",
            "_view_module_version": "1.5.0",
            "_view_name": "ProgressView",
            "bar_style": "success",
            "description": "",
            "description_tooltip": null,
            "layout": "IPY_MODEL_2ecf320e7c354378ac701b5d3968b553",
            "max": 231508,
            "min": 0,
            "orientation": "horizontal",
            "style": "IPY_MODEL_f3b9c84171aa4d4e9937546e2d7d02d0",
            "value": 231508
          }
        },
        "5094215f714e41e5b7b0b853a9ecedca": {
          "model_module": "@jupyter-widgets/controls",
          "model_name": "HTMLModel",
          "model_module_version": "1.5.0",
          "state": {
            "_dom_classes": [],
            "_model_module": "@jupyter-widgets/controls",
            "_model_module_version": "1.5.0",
            "_model_name": "HTMLModel",
            "_view_count": null,
            "_view_module": "@jupyter-widgets/controls",
            "_view_module_version": "1.5.0",
            "_view_name": "HTMLView",
            "description": "",
            "description_tooltip": null,
            "layout": "IPY_MODEL_eeda3266d77a4c3d9e7cd6644f6967d4",
            "placeholder": "​",
            "style": "IPY_MODEL_1d73390a1db8411ab89f78e7f07e939b",
            "value": " 232k/232k [00:00&lt;00:00, 2.08MB/s]"
          }
        },
        "19b43db55776416d8bf323de2d5a9beb": {
          "model_module": "@jupyter-widgets/base",
          "model_name": "LayoutModel",
          "model_module_version": "1.2.0",
          "state": {
            "_model_module": "@jupyter-widgets/base",
            "_model_module_version": "1.2.0",
            "_model_name": "LayoutModel",
            "_view_count": null,
            "_view_module": "@jupyter-widgets/base",
            "_view_module_version": "1.2.0",
            "_view_name": "LayoutView",
            "align_content": null,
            "align_items": null,
            "align_self": null,
            "border": null,
            "bottom": null,
            "display": null,
            "flex": null,
            "flex_flow": null,
            "grid_area": null,
            "grid_auto_columns": null,
            "grid_auto_flow": null,
            "grid_auto_rows": null,
            "grid_column": null,
            "grid_gap": null,
            "grid_row": null,
            "grid_template_areas": null,
            "grid_template_columns": null,
            "grid_template_rows": null,
            "height": null,
            "justify_content": null,
            "justify_items": null,
            "left": null,
            "margin": null,
            "max_height": null,
            "max_width": null,
            "min_height": null,
            "min_width": null,
            "object_fit": null,
            "object_position": null,
            "order": null,
            "overflow": null,
            "overflow_x": null,
            "overflow_y": null,
            "padding": null,
            "right": null,
            "top": null,
            "visibility": null,
            "width": null
          }
        },
        "50e950d8e6484f408d3c53e8bebdca7b": {
          "model_module": "@jupyter-widgets/base",
          "model_name": "LayoutModel",
          "model_module_version": "1.2.0",
          "state": {
            "_model_module": "@jupyter-widgets/base",
            "_model_module_version": "1.2.0",
            "_model_name": "LayoutModel",
            "_view_count": null,
            "_view_module": "@jupyter-widgets/base",
            "_view_module_version": "1.2.0",
            "_view_name": "LayoutView",
            "align_content": null,
            "align_items": null,
            "align_self": null,
            "border": null,
            "bottom": null,
            "display": null,
            "flex": null,
            "flex_flow": null,
            "grid_area": null,
            "grid_auto_columns": null,
            "grid_auto_flow": null,
            "grid_auto_rows": null,
            "grid_column": null,
            "grid_gap": null,
            "grid_row": null,
            "grid_template_areas": null,
            "grid_template_columns": null,
            "grid_template_rows": null,
            "height": null,
            "justify_content": null,
            "justify_items": null,
            "left": null,
            "margin": null,
            "max_height": null,
            "max_width": null,
            "min_height": null,
            "min_width": null,
            "object_fit": null,
            "object_position": null,
            "order": null,
            "overflow": null,
            "overflow_x": null,
            "overflow_y": null,
            "padding": null,
            "right": null,
            "top": null,
            "visibility": null,
            "width": null
          }
        },
        "b1aa791e7f12488a9197b890ac33d428": {
          "model_module": "@jupyter-widgets/controls",
          "model_name": "DescriptionStyleModel",
          "model_module_version": "1.5.0",
          "state": {
            "_model_module": "@jupyter-widgets/controls",
            "_model_module_version": "1.5.0",
            "_model_name": "DescriptionStyleModel",
            "_view_count": null,
            "_view_module": "@jupyter-widgets/base",
            "_view_module_version": "1.2.0",
            "_view_name": "StyleView",
            "description_width": ""
          }
        },
        "2ecf320e7c354378ac701b5d3968b553": {
          "model_module": "@jupyter-widgets/base",
          "model_name": "LayoutModel",
          "model_module_version": "1.2.0",
          "state": {
            "_model_module": "@jupyter-widgets/base",
            "_model_module_version": "1.2.0",
            "_model_name": "LayoutModel",
            "_view_count": null,
            "_view_module": "@jupyter-widgets/base",
            "_view_module_version": "1.2.0",
            "_view_name": "LayoutView",
            "align_content": null,
            "align_items": null,
            "align_self": null,
            "border": null,
            "bottom": null,
            "display": null,
            "flex": null,
            "flex_flow": null,
            "grid_area": null,
            "grid_auto_columns": null,
            "grid_auto_flow": null,
            "grid_auto_rows": null,
            "grid_column": null,
            "grid_gap": null,
            "grid_row": null,
            "grid_template_areas": null,
            "grid_template_columns": null,
            "grid_template_rows": null,
            "height": null,
            "justify_content": null,
            "justify_items": null,
            "left": null,
            "margin": null,
            "max_height": null,
            "max_width": null,
            "min_height": null,
            "min_width": null,
            "object_fit": null,
            "object_position": null,
            "order": null,
            "overflow": null,
            "overflow_x": null,
            "overflow_y": null,
            "padding": null,
            "right": null,
            "top": null,
            "visibility": null,
            "width": null
          }
        },
        "f3b9c84171aa4d4e9937546e2d7d02d0": {
          "model_module": "@jupyter-widgets/controls",
          "model_name": "ProgressStyleModel",
          "model_module_version": "1.5.0",
          "state": {
            "_model_module": "@jupyter-widgets/controls",
            "_model_module_version": "1.5.0",
            "_model_name": "ProgressStyleModel",
            "_view_count": null,
            "_view_module": "@jupyter-widgets/base",
            "_view_module_version": "1.2.0",
            "_view_name": "StyleView",
            "bar_color": null,
            "description_width": ""
          }
        },
        "eeda3266d77a4c3d9e7cd6644f6967d4": {
          "model_module": "@jupyter-widgets/base",
          "model_name": "LayoutModel",
          "model_module_version": "1.2.0",
          "state": {
            "_model_module": "@jupyter-widgets/base",
            "_model_module_version": "1.2.0",
            "_model_name": "LayoutModel",
            "_view_count": null,
            "_view_module": "@jupyter-widgets/base",
            "_view_module_version": "1.2.0",
            "_view_name": "LayoutView",
            "align_content": null,
            "align_items": null,
            "align_self": null,
            "border": null,
            "bottom": null,
            "display": null,
            "flex": null,
            "flex_flow": null,
            "grid_area": null,
            "grid_auto_columns": null,
            "grid_auto_flow": null,
            "grid_auto_rows": null,
            "grid_column": null,
            "grid_gap": null,
            "grid_row": null,
            "grid_template_areas": null,
            "grid_template_columns": null,
            "grid_template_rows": null,
            "height": null,
            "justify_content": null,
            "justify_items": null,
            "left": null,
            "margin": null,
            "max_height": null,
            "max_width": null,
            "min_height": null,
            "min_width": null,
            "object_fit": null,
            "object_position": null,
            "order": null,
            "overflow": null,
            "overflow_x": null,
            "overflow_y": null,
            "padding": null,
            "right": null,
            "top": null,
            "visibility": null,
            "width": null
          }
        },
        "1d73390a1db8411ab89f78e7f07e939b": {
          "model_module": "@jupyter-widgets/controls",
          "model_name": "DescriptionStyleModel",
          "model_module_version": "1.5.0",
          "state": {
            "_model_module": "@jupyter-widgets/controls",
            "_model_module_version": "1.5.0",
            "_model_name": "DescriptionStyleModel",
            "_view_count": null,
            "_view_module": "@jupyter-widgets/base",
            "_view_module_version": "1.2.0",
            "_view_name": "StyleView",
            "description_width": ""
          }
        },
        "861337fe4f3d430e98f757c45532cee2": {
          "model_module": "@jupyter-widgets/controls",
          "model_name": "HBoxModel",
          "model_module_version": "1.5.0",
          "state": {
            "_dom_classes": [],
            "_model_module": "@jupyter-widgets/controls",
            "_model_module_version": "1.5.0",
            "_model_name": "HBoxModel",
            "_view_count": null,
            "_view_module": "@jupyter-widgets/controls",
            "_view_module_version": "1.5.0",
            "_view_name": "HBoxView",
            "box_style": "",
            "children": [
              "IPY_MODEL_49aeac0ea1d4478fa10b8c7ab67c52a4",
              "IPY_MODEL_ee516338436a433aaf93ecfa194b7358",
              "IPY_MODEL_70d95e2cbb39465697203281cf40392f"
            ],
            "layout": "IPY_MODEL_83ed74435c384b53891467b93dcda3e6"
          }
        },
        "49aeac0ea1d4478fa10b8c7ab67c52a4": {
          "model_module": "@jupyter-widgets/controls",
          "model_name": "HTMLModel",
          "model_module_version": "1.5.0",
          "state": {
            "_dom_classes": [],
            "_model_module": "@jupyter-widgets/controls",
            "_model_module_version": "1.5.0",
            "_model_name": "HTMLModel",
            "_view_count": null,
            "_view_module": "@jupyter-widgets/controls",
            "_view_module_version": "1.5.0",
            "_view_name": "HTMLView",
            "description": "",
            "description_tooltip": null,
            "layout": "IPY_MODEL_fb6c20c501a745c7b58609bd70496234",
            "placeholder": "​",
            "style": "IPY_MODEL_55d4ef909b7a4bf2b5b253aa7243984e",
            "value": "Downloading (…)okenizer_config.json: 100%"
          }
        },
        "ee516338436a433aaf93ecfa194b7358": {
          "model_module": "@jupyter-widgets/controls",
          "model_name": "FloatProgressModel",
          "model_module_version": "1.5.0",
          "state": {
            "_dom_classes": [],
            "_model_module": "@jupyter-widgets/controls",
            "_model_module_version": "1.5.0",
            "_model_name": "FloatProgressModel",
            "_view_count": null,
            "_view_module": "@jupyter-widgets/controls",
            "_view_module_version": "1.5.0",
            "_view_name": "ProgressView",
            "bar_style": "success",
            "description": "",
            "description_tooltip": null,
            "layout": "IPY_MODEL_1131d36a90054ded8f97c4e763a9c23e",
            "max": 28,
            "min": 0,
            "orientation": "horizontal",
            "style": "IPY_MODEL_54614c669f6a4c9f8d88d236bf2190b9",
            "value": 28
          }
        },
        "70d95e2cbb39465697203281cf40392f": {
          "model_module": "@jupyter-widgets/controls",
          "model_name": "HTMLModel",
          "model_module_version": "1.5.0",
          "state": {
            "_dom_classes": [],
            "_model_module": "@jupyter-widgets/controls",
            "_model_module_version": "1.5.0",
            "_model_name": "HTMLModel",
            "_view_count": null,
            "_view_module": "@jupyter-widgets/controls",
            "_view_module_version": "1.5.0",
            "_view_name": "HTMLView",
            "description": "",
            "description_tooltip": null,
            "layout": "IPY_MODEL_741766fb1ae44c7f9b8a3d51a1a2e3dd",
            "placeholder": "​",
            "style": "IPY_MODEL_8d4c81762f15498590055c61a2e9227e",
            "value": " 28.0/28.0 [00:00&lt;00:00, 409B/s]"
          }
        },
        "83ed74435c384b53891467b93dcda3e6": {
          "model_module": "@jupyter-widgets/base",
          "model_name": "LayoutModel",
          "model_module_version": "1.2.0",
          "state": {
            "_model_module": "@jupyter-widgets/base",
            "_model_module_version": "1.2.0",
            "_model_name": "LayoutModel",
            "_view_count": null,
            "_view_module": "@jupyter-widgets/base",
            "_view_module_version": "1.2.0",
            "_view_name": "LayoutView",
            "align_content": null,
            "align_items": null,
            "align_self": null,
            "border": null,
            "bottom": null,
            "display": null,
            "flex": null,
            "flex_flow": null,
            "grid_area": null,
            "grid_auto_columns": null,
            "grid_auto_flow": null,
            "grid_auto_rows": null,
            "grid_column": null,
            "grid_gap": null,
            "grid_row": null,
            "grid_template_areas": null,
            "grid_template_columns": null,
            "grid_template_rows": null,
            "height": null,
            "justify_content": null,
            "justify_items": null,
            "left": null,
            "margin": null,
            "max_height": null,
            "max_width": null,
            "min_height": null,
            "min_width": null,
            "object_fit": null,
            "object_position": null,
            "order": null,
            "overflow": null,
            "overflow_x": null,
            "overflow_y": null,
            "padding": null,
            "right": null,
            "top": null,
            "visibility": null,
            "width": null
          }
        },
        "fb6c20c501a745c7b58609bd70496234": {
          "model_module": "@jupyter-widgets/base",
          "model_name": "LayoutModel",
          "model_module_version": "1.2.0",
          "state": {
            "_model_module": "@jupyter-widgets/base",
            "_model_module_version": "1.2.0",
            "_model_name": "LayoutModel",
            "_view_count": null,
            "_view_module": "@jupyter-widgets/base",
            "_view_module_version": "1.2.0",
            "_view_name": "LayoutView",
            "align_content": null,
            "align_items": null,
            "align_self": null,
            "border": null,
            "bottom": null,
            "display": null,
            "flex": null,
            "flex_flow": null,
            "grid_area": null,
            "grid_auto_columns": null,
            "grid_auto_flow": null,
            "grid_auto_rows": null,
            "grid_column": null,
            "grid_gap": null,
            "grid_row": null,
            "grid_template_areas": null,
            "grid_template_columns": null,
            "grid_template_rows": null,
            "height": null,
            "justify_content": null,
            "justify_items": null,
            "left": null,
            "margin": null,
            "max_height": null,
            "max_width": null,
            "min_height": null,
            "min_width": null,
            "object_fit": null,
            "object_position": null,
            "order": null,
            "overflow": null,
            "overflow_x": null,
            "overflow_y": null,
            "padding": null,
            "right": null,
            "top": null,
            "visibility": null,
            "width": null
          }
        },
        "55d4ef909b7a4bf2b5b253aa7243984e": {
          "model_module": "@jupyter-widgets/controls",
          "model_name": "DescriptionStyleModel",
          "model_module_version": "1.5.0",
          "state": {
            "_model_module": "@jupyter-widgets/controls",
            "_model_module_version": "1.5.0",
            "_model_name": "DescriptionStyleModel",
            "_view_count": null,
            "_view_module": "@jupyter-widgets/base",
            "_view_module_version": "1.2.0",
            "_view_name": "StyleView",
            "description_width": ""
          }
        },
        "1131d36a90054ded8f97c4e763a9c23e": {
          "model_module": "@jupyter-widgets/base",
          "model_name": "LayoutModel",
          "model_module_version": "1.2.0",
          "state": {
            "_model_module": "@jupyter-widgets/base",
            "_model_module_version": "1.2.0",
            "_model_name": "LayoutModel",
            "_view_count": null,
            "_view_module": "@jupyter-widgets/base",
            "_view_module_version": "1.2.0",
            "_view_name": "LayoutView",
            "align_content": null,
            "align_items": null,
            "align_self": null,
            "border": null,
            "bottom": null,
            "display": null,
            "flex": null,
            "flex_flow": null,
            "grid_area": null,
            "grid_auto_columns": null,
            "grid_auto_flow": null,
            "grid_auto_rows": null,
            "grid_column": null,
            "grid_gap": null,
            "grid_row": null,
            "grid_template_areas": null,
            "grid_template_columns": null,
            "grid_template_rows": null,
            "height": null,
            "justify_content": null,
            "justify_items": null,
            "left": null,
            "margin": null,
            "max_height": null,
            "max_width": null,
            "min_height": null,
            "min_width": null,
            "object_fit": null,
            "object_position": null,
            "order": null,
            "overflow": null,
            "overflow_x": null,
            "overflow_y": null,
            "padding": null,
            "right": null,
            "top": null,
            "visibility": null,
            "width": null
          }
        },
        "54614c669f6a4c9f8d88d236bf2190b9": {
          "model_module": "@jupyter-widgets/controls",
          "model_name": "ProgressStyleModel",
          "model_module_version": "1.5.0",
          "state": {
            "_model_module": "@jupyter-widgets/controls",
            "_model_module_version": "1.5.0",
            "_model_name": "ProgressStyleModel",
            "_view_count": null,
            "_view_module": "@jupyter-widgets/base",
            "_view_module_version": "1.2.0",
            "_view_name": "StyleView",
            "bar_color": null,
            "description_width": ""
          }
        },
        "741766fb1ae44c7f9b8a3d51a1a2e3dd": {
          "model_module": "@jupyter-widgets/base",
          "model_name": "LayoutModel",
          "model_module_version": "1.2.0",
          "state": {
            "_model_module": "@jupyter-widgets/base",
            "_model_module_version": "1.2.0",
            "_model_name": "LayoutModel",
            "_view_count": null,
            "_view_module": "@jupyter-widgets/base",
            "_view_module_version": "1.2.0",
            "_view_name": "LayoutView",
            "align_content": null,
            "align_items": null,
            "align_self": null,
            "border": null,
            "bottom": null,
            "display": null,
            "flex": null,
            "flex_flow": null,
            "grid_area": null,
            "grid_auto_columns": null,
            "grid_auto_flow": null,
            "grid_auto_rows": null,
            "grid_column": null,
            "grid_gap": null,
            "grid_row": null,
            "grid_template_areas": null,
            "grid_template_columns": null,
            "grid_template_rows": null,
            "height": null,
            "justify_content": null,
            "justify_items": null,
            "left": null,
            "margin": null,
            "max_height": null,
            "max_width": null,
            "min_height": null,
            "min_width": null,
            "object_fit": null,
            "object_position": null,
            "order": null,
            "overflow": null,
            "overflow_x": null,
            "overflow_y": null,
            "padding": null,
            "right": null,
            "top": null,
            "visibility": null,
            "width": null
          }
        },
        "8d4c81762f15498590055c61a2e9227e": {
          "model_module": "@jupyter-widgets/controls",
          "model_name": "DescriptionStyleModel",
          "model_module_version": "1.5.0",
          "state": {
            "_model_module": "@jupyter-widgets/controls",
            "_model_module_version": "1.5.0",
            "_model_name": "DescriptionStyleModel",
            "_view_count": null,
            "_view_module": "@jupyter-widgets/base",
            "_view_module_version": "1.2.0",
            "_view_name": "StyleView",
            "description_width": ""
          }
        },
        "30e10545d01f4081a47336404dde116f": {
          "model_module": "@jupyter-widgets/controls",
          "model_name": "HBoxModel",
          "model_module_version": "1.5.0",
          "state": {
            "_dom_classes": [],
            "_model_module": "@jupyter-widgets/controls",
            "_model_module_version": "1.5.0",
            "_model_name": "HBoxModel",
            "_view_count": null,
            "_view_module": "@jupyter-widgets/controls",
            "_view_module_version": "1.5.0",
            "_view_name": "HBoxView",
            "box_style": "",
            "children": [
              "IPY_MODEL_6acd7c333f644a20bbda81db7df957ba",
              "IPY_MODEL_768a8927e8b24d5a85bf2055d7aaea7a",
              "IPY_MODEL_ccdddf26c14b4662a85fff0b582efb86"
            ],
            "layout": "IPY_MODEL_6faa8b4e44834f6aa1c438d6625d82d8"
          }
        },
        "6acd7c333f644a20bbda81db7df957ba": {
          "model_module": "@jupyter-widgets/controls",
          "model_name": "HTMLModel",
          "model_module_version": "1.5.0",
          "state": {
            "_dom_classes": [],
            "_model_module": "@jupyter-widgets/controls",
            "_model_module_version": "1.5.0",
            "_model_name": "HTMLModel",
            "_view_count": null,
            "_view_module": "@jupyter-widgets/controls",
            "_view_module_version": "1.5.0",
            "_view_name": "HTMLView",
            "description": "",
            "description_tooltip": null,
            "layout": "IPY_MODEL_d9d1e4e5b44c4c56b110f1e8605a1d94",
            "placeholder": "​",
            "style": "IPY_MODEL_23744f9155f842d1b0134d15fac9d374",
            "value": "Downloading (…)lve/main/config.json: 100%"
          }
        },
        "768a8927e8b24d5a85bf2055d7aaea7a": {
          "model_module": "@jupyter-widgets/controls",
          "model_name": "FloatProgressModel",
          "model_module_version": "1.5.0",
          "state": {
            "_dom_classes": [],
            "_model_module": "@jupyter-widgets/controls",
            "_model_module_version": "1.5.0",
            "_model_name": "FloatProgressModel",
            "_view_count": null,
            "_view_module": "@jupyter-widgets/controls",
            "_view_module_version": "1.5.0",
            "_view_name": "ProgressView",
            "bar_style": "success",
            "description": "",
            "description_tooltip": null,
            "layout": "IPY_MODEL_f0099da10ce645fb8b4f81bf313b4b3f",
            "max": 570,
            "min": 0,
            "orientation": "horizontal",
            "style": "IPY_MODEL_d7160371113e4b6c88ee0bb8bc97ec27",
            "value": 570
          }
        },
        "ccdddf26c14b4662a85fff0b582efb86": {
          "model_module": "@jupyter-widgets/controls",
          "model_name": "HTMLModel",
          "model_module_version": "1.5.0",
          "state": {
            "_dom_classes": [],
            "_model_module": "@jupyter-widgets/controls",
            "_model_module_version": "1.5.0",
            "_model_name": "HTMLModel",
            "_view_count": null,
            "_view_module": "@jupyter-widgets/controls",
            "_view_module_version": "1.5.0",
            "_view_name": "HTMLView",
            "description": "",
            "description_tooltip": null,
            "layout": "IPY_MODEL_fd7db862c1ab4b1e9c9eb3727b36f6ac",
            "placeholder": "​",
            "style": "IPY_MODEL_583d6d13391049f992136dc16bad0f7f",
            "value": " 570/570 [00:00&lt;00:00, 13.2kB/s]"
          }
        },
        "6faa8b4e44834f6aa1c438d6625d82d8": {
          "model_module": "@jupyter-widgets/base",
          "model_name": "LayoutModel",
          "model_module_version": "1.2.0",
          "state": {
            "_model_module": "@jupyter-widgets/base",
            "_model_module_version": "1.2.0",
            "_model_name": "LayoutModel",
            "_view_count": null,
            "_view_module": "@jupyter-widgets/base",
            "_view_module_version": "1.2.0",
            "_view_name": "LayoutView",
            "align_content": null,
            "align_items": null,
            "align_self": null,
            "border": null,
            "bottom": null,
            "display": null,
            "flex": null,
            "flex_flow": null,
            "grid_area": null,
            "grid_auto_columns": null,
            "grid_auto_flow": null,
            "grid_auto_rows": null,
            "grid_column": null,
            "grid_gap": null,
            "grid_row": null,
            "grid_template_areas": null,
            "grid_template_columns": null,
            "grid_template_rows": null,
            "height": null,
            "justify_content": null,
            "justify_items": null,
            "left": null,
            "margin": null,
            "max_height": null,
            "max_width": null,
            "min_height": null,
            "min_width": null,
            "object_fit": null,
            "object_position": null,
            "order": null,
            "overflow": null,
            "overflow_x": null,
            "overflow_y": null,
            "padding": null,
            "right": null,
            "top": null,
            "visibility": null,
            "width": null
          }
        },
        "d9d1e4e5b44c4c56b110f1e8605a1d94": {
          "model_module": "@jupyter-widgets/base",
          "model_name": "LayoutModel",
          "model_module_version": "1.2.0",
          "state": {
            "_model_module": "@jupyter-widgets/base",
            "_model_module_version": "1.2.0",
            "_model_name": "LayoutModel",
            "_view_count": null,
            "_view_module": "@jupyter-widgets/base",
            "_view_module_version": "1.2.0",
            "_view_name": "LayoutView",
            "align_content": null,
            "align_items": null,
            "align_self": null,
            "border": null,
            "bottom": null,
            "display": null,
            "flex": null,
            "flex_flow": null,
            "grid_area": null,
            "grid_auto_columns": null,
            "grid_auto_flow": null,
            "grid_auto_rows": null,
            "grid_column": null,
            "grid_gap": null,
            "grid_row": null,
            "grid_template_areas": null,
            "grid_template_columns": null,
            "grid_template_rows": null,
            "height": null,
            "justify_content": null,
            "justify_items": null,
            "left": null,
            "margin": null,
            "max_height": null,
            "max_width": null,
            "min_height": null,
            "min_width": null,
            "object_fit": null,
            "object_position": null,
            "order": null,
            "overflow": null,
            "overflow_x": null,
            "overflow_y": null,
            "padding": null,
            "right": null,
            "top": null,
            "visibility": null,
            "width": null
          }
        },
        "23744f9155f842d1b0134d15fac9d374": {
          "model_module": "@jupyter-widgets/controls",
          "model_name": "DescriptionStyleModel",
          "model_module_version": "1.5.0",
          "state": {
            "_model_module": "@jupyter-widgets/controls",
            "_model_module_version": "1.5.0",
            "_model_name": "DescriptionStyleModel",
            "_view_count": null,
            "_view_module": "@jupyter-widgets/base",
            "_view_module_version": "1.2.0",
            "_view_name": "StyleView",
            "description_width": ""
          }
        },
        "f0099da10ce645fb8b4f81bf313b4b3f": {
          "model_module": "@jupyter-widgets/base",
          "model_name": "LayoutModel",
          "model_module_version": "1.2.0",
          "state": {
            "_model_module": "@jupyter-widgets/base",
            "_model_module_version": "1.2.0",
            "_model_name": "LayoutModel",
            "_view_count": null,
            "_view_module": "@jupyter-widgets/base",
            "_view_module_version": "1.2.0",
            "_view_name": "LayoutView",
            "align_content": null,
            "align_items": null,
            "align_self": null,
            "border": null,
            "bottom": null,
            "display": null,
            "flex": null,
            "flex_flow": null,
            "grid_area": null,
            "grid_auto_columns": null,
            "grid_auto_flow": null,
            "grid_auto_rows": null,
            "grid_column": null,
            "grid_gap": null,
            "grid_row": null,
            "grid_template_areas": null,
            "grid_template_columns": null,
            "grid_template_rows": null,
            "height": null,
            "justify_content": null,
            "justify_items": null,
            "left": null,
            "margin": null,
            "max_height": null,
            "max_width": null,
            "min_height": null,
            "min_width": null,
            "object_fit": null,
            "object_position": null,
            "order": null,
            "overflow": null,
            "overflow_x": null,
            "overflow_y": null,
            "padding": null,
            "right": null,
            "top": null,
            "visibility": null,
            "width": null
          }
        },
        "d7160371113e4b6c88ee0bb8bc97ec27": {
          "model_module": "@jupyter-widgets/controls",
          "model_name": "ProgressStyleModel",
          "model_module_version": "1.5.0",
          "state": {
            "_model_module": "@jupyter-widgets/controls",
            "_model_module_version": "1.5.0",
            "_model_name": "ProgressStyleModel",
            "_view_count": null,
            "_view_module": "@jupyter-widgets/base",
            "_view_module_version": "1.2.0",
            "_view_name": "StyleView",
            "bar_color": null,
            "description_width": ""
          }
        },
        "fd7db862c1ab4b1e9c9eb3727b36f6ac": {
          "model_module": "@jupyter-widgets/base",
          "model_name": "LayoutModel",
          "model_module_version": "1.2.0",
          "state": {
            "_model_module": "@jupyter-widgets/base",
            "_model_module_version": "1.2.0",
            "_model_name": "LayoutModel",
            "_view_count": null,
            "_view_module": "@jupyter-widgets/base",
            "_view_module_version": "1.2.0",
            "_view_name": "LayoutView",
            "align_content": null,
            "align_items": null,
            "align_self": null,
            "border": null,
            "bottom": null,
            "display": null,
            "flex": null,
            "flex_flow": null,
            "grid_area": null,
            "grid_auto_columns": null,
            "grid_auto_flow": null,
            "grid_auto_rows": null,
            "grid_column": null,
            "grid_gap": null,
            "grid_row": null,
            "grid_template_areas": null,
            "grid_template_columns": null,
            "grid_template_rows": null,
            "height": null,
            "justify_content": null,
            "justify_items": null,
            "left": null,
            "margin": null,
            "max_height": null,
            "max_width": null,
            "min_height": null,
            "min_width": null,
            "object_fit": null,
            "object_position": null,
            "order": null,
            "overflow": null,
            "overflow_x": null,
            "overflow_y": null,
            "padding": null,
            "right": null,
            "top": null,
            "visibility": null,
            "width": null
          }
        },
        "583d6d13391049f992136dc16bad0f7f": {
          "model_module": "@jupyter-widgets/controls",
          "model_name": "DescriptionStyleModel",
          "model_module_version": "1.5.0",
          "state": {
            "_model_module": "@jupyter-widgets/controls",
            "_model_module_version": "1.5.0",
            "_model_name": "DescriptionStyleModel",
            "_view_count": null,
            "_view_module": "@jupyter-widgets/base",
            "_view_module_version": "1.2.0",
            "_view_name": "StyleView",
            "description_width": ""
          }
        }
      }
    }
  },
  "nbformat": 4,
  "nbformat_minor": 0
}